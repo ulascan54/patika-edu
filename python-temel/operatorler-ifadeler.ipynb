{
 "cells": [
  {
   "cell_type": "markdown",
   "id": "4b04f3cc",
   "metadata": {},
   "source": [
    "# Operatörler ve İfadeler (Operators-Expressions)\n",
    "\n",
    "\n",
    "- Objeler(object) ve operatörlerin(operator) birleşimi expression'ları oluşturur.\n",
    "\n",
    "\n",
    "- Expression'ların değerleri (value)'ları vardır ve tabii ki de bunların tipleri vardır.\n",
    "\n",
    "\n",
    "- İfadeler şöyler oluşturulur: (object) (operator) (object)\n",
    "\n",
    "\n",
    "- Expression'ların tiplerini operator'un uygulandığı objelerin tipleri belirler.\n",
    "\n",
    "-------\n",
    "\n",
    "- ** (+) OPERATOR**"
   ]
  },
  {
   "cell_type": "code",
   "execution_count": 1,
   "id": "42ac7b55",
   "metadata": {},
   "outputs": [
    {
     "data": {
      "text/plain": [
       "4"
      ]
     },
     "execution_count": 1,
     "metadata": {},
     "output_type": "execute_result"
    }
   ],
   "source": [
    "# İki tane integer'ın toplamı integer verir.\n",
    "2 + 2"
   ]
  },
  {
   "cell_type": "code",
   "execution_count": 2,
   "id": "a33e4b9f",
   "metadata": {},
   "outputs": [
    {
     "data": {
      "text/plain": [
       "int"
      ]
     },
     "execution_count": 2,
     "metadata": {},
     "output_type": "execute_result"
    }
   ],
   "source": [
    "type(2+2)"
   ]
  },
  {
   "cell_type": "code",
   "execution_count": 3,
   "id": "2fee7214",
   "metadata": {},
   "outputs": [
    {
     "data": {
      "text/plain": [
       "4.9"
      ]
     },
     "execution_count": 3,
     "metadata": {},
     "output_type": "execute_result"
    }
   ],
   "source": [
    "# İki tane float'un toplamı float verir.\n",
    "2.4 + 2.5"
   ]
  },
  {
   "cell_type": "code",
   "execution_count": 4,
   "id": "35caea9f",
   "metadata": {},
   "outputs": [
    {
     "data": {
      "text/plain": [
       "float"
      ]
     },
     "execution_count": 4,
     "metadata": {},
     "output_type": "execute_result"
    }
   ],
   "source": [
    "type(2.4 + 2.5)"
   ]
  },
  {
   "cell_type": "markdown",
   "id": "b8b04ff7",
   "metadata": {},
   "source": [
    "- Eğer objelerden biri bile float ise toplama işleminde expression'un tipi float olur.\n"
   ]
  },
  {
   "cell_type": "markdown",
   "id": "9c0222da",
   "metadata": {},
   "source": [
    "- ** (+) OPERATOR**"
   ]
  },
  {
   "cell_type": "code",
   "execution_count": 5,
   "id": "3871ceb9",
   "metadata": {},
   "outputs": [
    {
     "data": {
      "text/plain": [
       "1"
      ]
     },
     "execution_count": 5,
     "metadata": {},
     "output_type": "execute_result"
    }
   ],
   "source": [
    "# İki tane integer'ın farkı integer verir.\n",
    "3 - 2"
   ]
  },
  {
   "cell_type": "code",
   "execution_count": 6,
   "id": "763dd57f",
   "metadata": {},
   "outputs": [
    {
     "data": {
      "text/plain": [
       "int"
      ]
     },
     "execution_count": 6,
     "metadata": {},
     "output_type": "execute_result"
    }
   ],
   "source": [
    "type(3-2)\n"
   ]
  },
  {
   "cell_type": "code",
   "execution_count": 7,
   "id": "eba16f78",
   "metadata": {},
   "outputs": [
    {
     "data": {
      "text/plain": [
       "0.5"
      ]
     },
     "execution_count": 7,
     "metadata": {},
     "output_type": "execute_result"
    }
   ],
   "source": [
    "# İki tane float'un farkı float verir.\n",
    "2.6 - 2.1"
   ]
  },
  {
   "cell_type": "code",
   "execution_count": 8,
   "id": "857c0a9a",
   "metadata": {},
   "outputs": [
    {
     "data": {
      "text/plain": [
       "float"
      ]
     },
     "execution_count": 8,
     "metadata": {},
     "output_type": "execute_result"
    }
   ],
   "source": [
    "type(2 - 2.1)\n"
   ]
  },
  {
   "cell_type": "markdown",
   "id": "55c7a50d",
   "metadata": {},
   "source": [
    "- Eğer objelerden biri bile float ise çıkarma işleminde expression'un tipi float olur."
   ]
  },
  {
   "cell_type": "code",
   "execution_count": 9,
   "id": "6415ffcc",
   "metadata": {},
   "outputs": [
    {
     "data": {
      "text/plain": [
       "-0.5"
      ]
     },
     "execution_count": 9,
     "metadata": {},
     "output_type": "execute_result"
    }
   ],
   "source": [
    "2.5 - 3"
   ]
  },
  {
   "cell_type": "code",
   "execution_count": 10,
   "id": "d327e34f",
   "metadata": {},
   "outputs": [
    {
     "data": {
      "text/plain": [
       "float"
      ]
     },
     "execution_count": 10,
     "metadata": {},
     "output_type": "execute_result"
    }
   ],
   "source": [
    "type(2.5 - 3)"
   ]
  },
  {
   "cell_type": "markdown",
   "id": "97ef984d",
   "metadata": {},
   "source": [
    "**ÇARPMA (*) OPERATOR**"
   ]
  },
  {
   "cell_type": "code",
   "execution_count": 16,
   "id": "188a086a",
   "metadata": {},
   "outputs": [
    {
     "data": {
      "text/plain": [
       "6"
      ]
     },
     "execution_count": 16,
     "metadata": {},
     "output_type": "execute_result"
    }
   ],
   "source": [
    "# İki tane integer'ın çarpımı integer verir.\n",
    "3 * 2"
   ]
  },
  {
   "cell_type": "code",
   "execution_count": 12,
   "id": "aef41de0",
   "metadata": {},
   "outputs": [
    {
     "data": {
      "text/plain": [
       "int"
      ]
     },
     "execution_count": 12,
     "metadata": {},
     "output_type": "execute_result"
    }
   ],
   "source": [
    "type(3*2)"
   ]
  },
  {
   "cell_type": "code",
   "execution_count": 13,
   "id": "5ef4a235",
   "metadata": {},
   "outputs": [
    {
     "data": {
      "text/plain": [
       "6.24"
      ]
     },
     "execution_count": 13,
     "metadata": {},
     "output_type": "execute_result"
    }
   ],
   "source": [
    "# İki tane float'un çarpımı float verir.\n",
    "2.6 * 2.4"
   ]
  },
  {
   "cell_type": "code",
   "execution_count": 14,
   "id": "4cfdb2bf",
   "metadata": {},
   "outputs": [
    {
     "data": {
      "text/plain": [
       "float"
      ]
     },
     "execution_count": 14,
     "metadata": {},
     "output_type": "execute_result"
    }
   ],
   "source": [
    "type(2.6 * 2.4)"
   ]
  },
  {
   "cell_type": "markdown",
   "id": "17403f21",
   "metadata": {},
   "source": [
    "- Eğer objelerden biri bile float ise çarpma işleminde expression'un tipi float olur."
   ]
  },
  {
   "cell_type": "code",
   "execution_count": 17,
   "id": "dc6e876c",
   "metadata": {},
   "outputs": [
    {
     "data": {
      "text/plain": [
       "7.5"
      ]
     },
     "execution_count": 17,
     "metadata": {},
     "output_type": "execute_result"
    }
   ],
   "source": [
    "2.5 * 3\n"
   ]
  },
  {
   "cell_type": "code",
   "execution_count": 18,
   "id": "482933cf",
   "metadata": {},
   "outputs": [
    {
     "data": {
      "text/plain": [
       "float"
      ]
     },
     "execution_count": 18,
     "metadata": {},
     "output_type": "execute_result"
    }
   ],
   "source": [
    "type(2.5 * 3) \n"
   ]
  },
  {
   "cell_type": "markdown",
   "id": "05fd072f",
   "metadata": {},
   "source": [
    "### / operator"
   ]
  },
  {
   "cell_type": "markdown",
   "id": "169dc93f",
   "metadata": {},
   "source": [
    "İşleme giren objelerin tipi ne olursa olsun cevap float olur.\n"
   ]
  },
  {
   "cell_type": "code",
   "execution_count": 19,
   "id": "e96aa648",
   "metadata": {},
   "outputs": [
    {
     "data": {
      "text/plain": [
       "1.5"
      ]
     },
     "execution_count": 19,
     "metadata": {},
     "output_type": "execute_result"
    }
   ],
   "source": [
    "3 / 2\n"
   ]
  },
  {
   "cell_type": "code",
   "execution_count": 20,
   "id": "2aee57f5",
   "metadata": {},
   "outputs": [
    {
     "data": {
      "text/plain": [
       "2.0"
      ]
     },
     "execution_count": 20,
     "metadata": {},
     "output_type": "execute_result"
    }
   ],
   "source": [
    "3 / 1.5"
   ]
  },
  {
   "cell_type": "code",
   "execution_count": 21,
   "id": "4575b5d5",
   "metadata": {},
   "outputs": [
    {
     "data": {
      "text/plain": [
       "4.0"
      ]
     },
     "execution_count": 21,
     "metadata": {},
     "output_type": "execute_result"
    }
   ],
   "source": [
    "2.4 / 0.6"
   ]
  },
  {
   "cell_type": "markdown",
   "id": "c1c6c4a0",
   "metadata": {},
   "source": [
    "### // operator (int division)"
   ]
  },
  {
   "cell_type": "markdown",
   "id": "8b4c10e7",
   "metadata": {},
   "source": [
    "Eğer işleme girenlerden biri bile float ise cevap float olur."
   ]
  },
  {
   "cell_type": "code",
   "execution_count": 22,
   "id": "adb6d25f",
   "metadata": {},
   "outputs": [
    {
     "data": {
      "text/plain": [
       "2"
      ]
     },
     "execution_count": 22,
     "metadata": {},
     "output_type": "execute_result"
    }
   ],
   "source": [
    "5 // 2"
   ]
  },
  {
   "cell_type": "code",
   "execution_count": 23,
   "id": "99b0282e",
   "metadata": {},
   "outputs": [
    {
     "data": {
      "text/plain": [
       "2.0"
      ]
     },
     "execution_count": 23,
     "metadata": {},
     "output_type": "execute_result"
    }
   ],
   "source": [
    "5 // 2.5\n"
   ]
  },
  {
   "cell_type": "code",
   "execution_count": 24,
   "id": "7d7e8342",
   "metadata": {},
   "outputs": [
    {
     "data": {
      "text/plain": [
       "0.0"
      ]
     },
     "execution_count": 24,
     "metadata": {},
     "output_type": "execute_result"
    }
   ],
   "source": [
    "4.2 // 5\n"
   ]
  },
  {
   "cell_type": "code",
   "execution_count": 25,
   "id": "3fa499d4",
   "metadata": {},
   "outputs": [
    {
     "data": {
      "text/plain": [
       "1.0"
      ]
     },
     "execution_count": 25,
     "metadata": {},
     "output_type": "execute_result"
    }
   ],
   "source": [
    "8.2 // 5\n"
   ]
  },
  {
   "cell_type": "markdown",
   "id": "9796630e",
   "metadata": {},
   "source": [
    "### % operator (Remainder/kalan)\n",
    "\n",
    "\n",
    "Eğer kalan float ise cevap float olur yoksa integer olur."
   ]
  },
  {
   "cell_type": "code",
   "execution_count": 28,
   "id": "9dd30f08",
   "metadata": {},
   "outputs": [
    {
     "data": {
      "text/plain": [
       "1"
      ]
     },
     "execution_count": 28,
     "metadata": {},
     "output_type": "execute_result"
    }
   ],
   "source": [
    "5 % 2\n"
   ]
  },
  {
   "cell_type": "code",
   "execution_count": 29,
   "id": "35890bbd",
   "metadata": {},
   "outputs": [
    {
     "data": {
      "text/plain": [
       "1"
      ]
     },
     "execution_count": 29,
     "metadata": {},
     "output_type": "execute_result"
    }
   ],
   "source": [
    "10 % 3"
   ]
  },
  {
   "cell_type": "code",
   "execution_count": 30,
   "id": "7267d7c1",
   "metadata": {},
   "outputs": [
    {
     "data": {
      "text/plain": [
       "0.5"
      ]
     },
     "execution_count": 30,
     "metadata": {},
     "output_type": "execute_result"
    }
   ],
   "source": [
    "2.5 % 2"
   ]
  },
  {
   "cell_type": "markdown",
   "id": "857a3a68",
   "metadata": {},
   "source": [
    "### ** operator\n",
    "\n",
    "\n",
    "Üst alma işlemi yapar.\n"
   ]
  },
  {
   "cell_type": "code",
   "execution_count": 31,
   "id": "2a845702",
   "metadata": {},
   "outputs": [
    {
     "data": {
      "text/plain": [
       "0.2"
      ]
     },
     "execution_count": 31,
     "metadata": {},
     "output_type": "execute_result"
    }
   ],
   "source": [
    "2 ** 3\n"
   ]
  },
  {
   "cell_type": "code",
   "execution_count": 32,
   "id": "7e0b2662",
   "metadata": {},
   "outputs": [
    {
     "data": {
      "text/plain": [
       "9"
      ]
     },
     "execution_count": 32,
     "metadata": {},
     "output_type": "execute_result"
    }
   ],
   "source": [
    "3 ** 2\n"
   ]
  },
  {
   "cell_type": "code",
   "execution_count": 33,
   "id": "4ef4b979",
   "metadata": {},
   "outputs": [
    {
     "data": {
      "text/plain": [
       "5.76"
      ]
     },
     "execution_count": 33,
     "metadata": {},
     "output_type": "execute_result"
    }
   ],
   "source": [
    "2.4 ** 2\n"
   ]
  },
  {
   "cell_type": "code",
   "execution_count": 34,
   "id": "93449d0f",
   "metadata": {},
   "outputs": [
    {
     "data": {
      "text/plain": [
       "0.2"
      ]
     },
     "execution_count": 34,
     "metadata": {},
     "output_type": "execute_result"
    }
   ],
   "source": [
    "5 ** -1"
   ]
  },
  {
   "cell_type": "markdown",
   "id": "70b94fb5",
   "metadata": {},
   "source": [
    "### print()\n",
    "\n",
    "\n",
    "Bazen sadece bazı değerleri bastırmak isteriz, bunun için print() metodunu kullanabiliriz.\n"
   ]
  },
  {
   "cell_type": "code",
   "execution_count": 35,
   "id": "e7ddb427",
   "metadata": {},
   "outputs": [
    {
     "name": "stdout",
     "output_type": "stream",
     "text": [
      "5\n"
     ]
    }
   ],
   "source": [
    "print(5)"
   ]
  },
  {
   "cell_type": "code",
   "execution_count": null,
   "id": "6ae56391",
   "metadata": {},
   "outputs": [],
   "source": []
  }
 ],
 "metadata": {
  "kernelspec": {
   "display_name": "Python 3 (ipykernel)",
   "language": "python",
   "name": "python3"
  },
  "language_info": {
   "codemirror_mode": {
    "name": "ipython",
    "version": 3
   },
   "file_extension": ".py",
   "mimetype": "text/x-python",
   "name": "python",
   "nbconvert_exporter": "python",
   "pygments_lexer": "ipython3",
   "version": "3.9.6"
  }
 },
 "nbformat": 4,
 "nbformat_minor": 5
}
