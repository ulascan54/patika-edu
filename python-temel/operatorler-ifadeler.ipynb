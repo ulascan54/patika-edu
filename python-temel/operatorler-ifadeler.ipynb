{
 "cells": [
  {
   "cell_type": "markdown",
   "id": "684da289",
   "metadata": {},
   "source": [
    "# Operatörler ve İfadeler (Operators-Expressions)\n",
    "\n",
    "\n",
    "- Objeler(object) ve operatörlerin(operator) birleşimi expression'ları oluşturur.\n",
    "\n",
    "\n",
    "- Expression'ların değerleri (value)'ları vardır ve tabii ki de bunların tipleri vardır.\n",
    "\n",
    "\n",
    "- İfadeler şöyler oluşturulur: (object) (operator) (object)\n",
    "\n",
    "\n",
    "- Expression'ların tiplerini operator'un uygulandığı objelerin tipleri belirler.\n",
    "\n",
    "-------\n",
    "\n",
    "- ** (+) OPERATOR**"
   ]
  },
  {
   "cell_type": "code",
   "execution_count": 1,
   "id": "fc4e2b1a",
   "metadata": {},
   "outputs": [
    {
     "data": {
      "text/plain": [
       "4"
      ]
     },
     "execution_count": 1,
     "metadata": {},
     "output_type": "execute_result"
    }
   ],
   "source": [
    "# İki tane integer'ın toplamı integer verir.\n",
    "2 + 2"
   ]
  },
  {
   "cell_type": "code",
   "execution_count": 2,
   "id": "b469b797",
   "metadata": {},
   "outputs": [
    {
     "data": {
      "text/plain": [
       "int"
      ]
     },
     "execution_count": 2,
     "metadata": {},
     "output_type": "execute_result"
    }
   ],
   "source": [
    "type(2+2)"
   ]
  },
  {
   "cell_type": "code",
   "execution_count": 3,
   "id": "1b06e5e4",
   "metadata": {},
   "outputs": [
    {
     "data": {
      "text/plain": [
       "4.9"
      ]
     },
     "execution_count": 3,
     "metadata": {},
     "output_type": "execute_result"
    }
   ],
   "source": [
    "# İki tane float'un toplamı float verir.\n",
    "2.4 + 2.5"
   ]
  },
  {
   "cell_type": "code",
   "execution_count": 4,
   "id": "db8d50b4",
   "metadata": {},
   "outputs": [
    {
     "data": {
      "text/plain": [
       "float"
      ]
     },
     "execution_count": 4,
     "metadata": {},
     "output_type": "execute_result"
    }
   ],
   "source": [
    "type(2.4 + 2.5)"
   ]
  },
  {
   "cell_type": "markdown",
   "id": "9cab13f3",
   "metadata": {},
   "source": [
    "- Eğer objelerden biri bile float ise toplama işleminde expression'un tipi float olur.\n"
   ]
  },
  {
   "cell_type": "markdown",
   "id": "70fcf7f4",
   "metadata": {},
   "source": [
    "- ** (+) OPERATOR**"
   ]
  },
  {
   "cell_type": "code",
   "execution_count": 5,
   "id": "0d3665b5",
   "metadata": {},
   "outputs": [
    {
     "data": {
      "text/plain": [
       "1"
      ]
     },
     "execution_count": 5,
     "metadata": {},
     "output_type": "execute_result"
    }
   ],
   "source": [
    "# İki tane integer'ın farkı integer verir.\n",
    "3 - 2"
   ]
  },
  {
   "cell_type": "code",
   "execution_count": 6,
   "id": "2c46aae9",
   "metadata": {},
   "outputs": [
    {
     "data": {
      "text/plain": [
       "int"
      ]
     },
     "execution_count": 6,
     "metadata": {},
     "output_type": "execute_result"
    }
   ],
   "source": [
    "type(3-2)\n"
   ]
  },
  {
   "cell_type": "code",
   "execution_count": 7,
   "id": "a96e925f",
   "metadata": {},
   "outputs": [
    {
     "data": {
      "text/plain": [
       "0.5"
      ]
     },
     "execution_count": 7,
     "metadata": {},
     "output_type": "execute_result"
    }
   ],
   "source": [
    "# İki tane float'un farkı float verir.\n",
    "2.6 - 2.1"
   ]
  },
  {
   "cell_type": "code",
   "execution_count": 8,
   "id": "20277abf",
   "metadata": {},
   "outputs": [
    {
     "data": {
      "text/plain": [
       "float"
      ]
     },
     "execution_count": 8,
     "metadata": {},
     "output_type": "execute_result"
    }
   ],
   "source": [
    "type(2 - 2.1)\n"
   ]
  },
  {
   "cell_type": "markdown",
   "id": "1aba5b37",
   "metadata": {},
   "source": [
    "- Eğer objelerden biri bile float ise çıkarma işleminde expression'un tipi float olur."
   ]
  },
  {
   "cell_type": "code",
   "execution_count": 9,
   "id": "a96aa2e6",
   "metadata": {},
   "outputs": [
    {
     "data": {
      "text/plain": [
       "-0.5"
      ]
     },
     "execution_count": 9,
     "metadata": {},
     "output_type": "execute_result"
    }
   ],
   "source": [
    "2.5 - 3"
   ]
  },
  {
   "cell_type": "code",
   "execution_count": 10,
   "id": "fb8f4cbc",
   "metadata": {},
   "outputs": [
    {
     "data": {
      "text/plain": [
       "float"
      ]
     },
     "execution_count": 10,
     "metadata": {},
     "output_type": "execute_result"
    }
   ],
   "source": [
    "type(2.5 - 3)"
   ]
  },
  {
   "cell_type": "markdown",
   "id": "7871755b",
   "metadata": {},
   "source": [
    "**ÇARPMA (*) OPERATOR**"
   ]
  },
  {
   "cell_type": "code",
   "execution_count": 16,
   "id": "b0b86cce",
   "metadata": {},
   "outputs": [
    {
     "data": {
      "text/plain": [
       "6"
      ]
     },
     "execution_count": 16,
     "metadata": {},
     "output_type": "execute_result"
    }
   ],
   "source": [
    "# İki tane integer'ın çarpımı integer verir.\n",
    "3 * 2"
   ]
  },
  {
   "cell_type": "code",
   "execution_count": 12,
   "id": "da56990a",
   "metadata": {},
   "outputs": [
    {
     "data": {
      "text/plain": [
       "int"
      ]
     },
     "execution_count": 12,
     "metadata": {},
     "output_type": "execute_result"
    }
   ],
   "source": [
    "type(3*2)"
   ]
  },
  {
   "cell_type": "code",
   "execution_count": 13,
   "id": "36fc7400",
   "metadata": {},
   "outputs": [
    {
     "data": {
      "text/plain": [
       "6.24"
      ]
     },
     "execution_count": 13,
     "metadata": {},
     "output_type": "execute_result"
    }
   ],
   "source": [
    "# İki tane float'un çarpımı float verir.\n",
    "2.6 * 2.4"
   ]
  },
  {
   "cell_type": "code",
   "execution_count": 14,
   "id": "232458ee",
   "metadata": {},
   "outputs": [
    {
     "data": {
      "text/plain": [
       "float"
      ]
     },
     "execution_count": 14,
     "metadata": {},
     "output_type": "execute_result"
    }
   ],
   "source": [
    "type(2.6 * 2.4)"
   ]
  },
  {
   "cell_type": "markdown",
   "id": "89222683",
   "metadata": {},
   "source": [
    "- Eğer objelerden biri bile float ise çarpma işleminde expression'un tipi float olur."
   ]
  },
  {
   "cell_type": "code",
   "execution_count": 17,
   "id": "4d5c82e6",
   "metadata": {},
   "outputs": [
    {
     "data": {
      "text/plain": [
       "7.5"
      ]
     },
     "execution_count": 17,
     "metadata": {},
     "output_type": "execute_result"
    }
   ],
   "source": [
    "2.5 * 3\n"
   ]
  },
  {
   "cell_type": "code",
   "execution_count": 18,
   "id": "4a28e758",
   "metadata": {},
   "outputs": [
    {
     "data": {
      "text/plain": [
       "float"
      ]
     },
     "execution_count": 18,
     "metadata": {},
     "output_type": "execute_result"
    }
   ],
   "source": [
    "type(2.5 * 3) \n"
   ]
  },
  {
   "cell_type": "markdown",
   "id": "d6adc4fb",
   "metadata": {},
   "source": [
    "### / operator"
   ]
  },
  {
   "cell_type": "markdown",
   "id": "0c46339f",
   "metadata": {},
   "source": [
    "İşleme giren objelerin tipi ne olursa olsun cevap float olur.\n"
   ]
  },
  {
   "cell_type": "code",
   "execution_count": 19,
   "id": "b0b1b90a",
   "metadata": {},
   "outputs": [
    {
     "data": {
      "text/plain": [
       "1.5"
      ]
     },
     "execution_count": 19,
     "metadata": {},
     "output_type": "execute_result"
    }
   ],
   "source": [
    "3 / 2\n"
   ]
  },
  {
   "cell_type": "code",
   "execution_count": 20,
   "id": "6d9c532a",
   "metadata": {},
   "outputs": [
    {
     "data": {
      "text/plain": [
       "2.0"
      ]
     },
     "execution_count": 20,
     "metadata": {},
     "output_type": "execute_result"
    }
   ],
   "source": [
    "3 / 1.5"
   ]
  },
  {
   "cell_type": "code",
   "execution_count": 21,
   "id": "243e5c7d",
   "metadata": {},
   "outputs": [
    {
     "data": {
      "text/plain": [
       "4.0"
      ]
     },
     "execution_count": 21,
     "metadata": {},
     "output_type": "execute_result"
    }
   ],
   "source": [
    "2.4 / 0.6"
   ]
  },
  {
   "cell_type": "markdown",
   "id": "dedb06c7",
   "metadata": {},
   "source": [
    "### // operator (int division)"
   ]
  },
  {
   "cell_type": "markdown",
   "id": "aeb483b2",
   "metadata": {},
   "source": [
    "Eğer işleme girenlerden biri bile float ise cevap float olur."
   ]
  },
  {
   "cell_type": "code",
   "execution_count": 22,
   "id": "d1a58674",
   "metadata": {},
   "outputs": [
    {
     "data": {
      "text/plain": [
       "2"
      ]
     },
     "execution_count": 22,
     "metadata": {},
     "output_type": "execute_result"
    }
   ],
   "source": [
    "5 // 2"
   ]
  },
  {
   "cell_type": "code",
   "execution_count": 23,
   "id": "00959628",
   "metadata": {},
   "outputs": [
    {
     "data": {
      "text/plain": [
       "2.0"
      ]
     },
     "execution_count": 23,
     "metadata": {},
     "output_type": "execute_result"
    }
   ],
   "source": [
    "5 // 2.5\n"
   ]
  },
  {
   "cell_type": "code",
   "execution_count": 24,
   "id": "b16dd163",
   "metadata": {},
   "outputs": [
    {
     "data": {
      "text/plain": [
       "0.0"
      ]
     },
     "execution_count": 24,
     "metadata": {},
     "output_type": "execute_result"
    }
   ],
   "source": [
    "4.2 // 5\n"
   ]
  },
  {
   "cell_type": "code",
   "execution_count": 25,
   "id": "dc024dee",
   "metadata": {},
   "outputs": [
    {
     "data": {
      "text/plain": [
       "1.0"
      ]
     },
     "execution_count": 25,
     "metadata": {},
     "output_type": "execute_result"
    }
   ],
   "source": [
    "8.2 // 5\n"
   ]
  },
  {
   "cell_type": "markdown",
   "id": "b7bcb4aa",
   "metadata": {},
   "source": [
    "### % operator (Remainder/kalan)\n",
    "\n",
    "\n",
    "Eğer kalan float ise cevap float olur yoksa integer olur."
   ]
  },
  {
   "cell_type": "code",
   "execution_count": 28,
   "id": "a7e43881",
   "metadata": {},
   "outputs": [
    {
     "data": {
      "text/plain": [
       "1"
      ]
     },
     "execution_count": 28,
     "metadata": {},
     "output_type": "execute_result"
    }
   ],
   "source": [
    "5 % 2\n"
   ]
  },
  {
   "cell_type": "code",
   "execution_count": 29,
   "id": "9a537009",
   "metadata": {},
   "outputs": [
    {
     "data": {
      "text/plain": [
       "1"
      ]
     },
     "execution_count": 29,
     "metadata": {},
     "output_type": "execute_result"
    }
   ],
   "source": [
    "10 % 3"
   ]
  },
  {
   "cell_type": "code",
   "execution_count": 30,
   "id": "7f6ec603",
   "metadata": {},
   "outputs": [
    {
     "data": {
      "text/plain": [
       "0.5"
      ]
     },
     "execution_count": 30,
     "metadata": {},
     "output_type": "execute_result"
    }
   ],
   "source": [
    "2.5 % 2"
   ]
  },
  {
   "cell_type": "markdown",
   "id": "52e57177",
   "metadata": {},
   "source": [
    "### ** operator\n",
    "\n",
    "\n",
    "Üst alma işlemi yapar.\n"
   ]
  },
  {
   "cell_type": "code",
   "execution_count": 31,
   "id": "fb991c18",
   "metadata": {},
   "outputs": [
    {
     "data": {
      "text/plain": [
       "0.2"
      ]
     },
     "execution_count": 31,
     "metadata": {},
     "output_type": "execute_result"
    }
   ],
   "source": [
    "2 ** 3\n",
    "5 ** -1"
   ]
  },
  {
   "cell_type": "code",
   "execution_count": 32,
   "id": "d24a994c",
   "metadata": {},
   "outputs": [
    {
     "data": {
      "text/plain": [
       "9"
      ]
     },
     "execution_count": 32,
     "metadata": {},
     "output_type": "execute_result"
    }
   ],
   "source": [
    "3 ** 2\n"
   ]
  },
  {
   "cell_type": "code",
   "execution_count": null,
   "id": "b727a41e",
   "metadata": {},
   "outputs": [],
   "source": []
  }
 ],
 "metadata": {
  "kernelspec": {
   "display_name": "Python 3 (ipykernel)",
   "language": "python",
   "name": "python3"
  },
  "language_info": {
   "codemirror_mode": {
    "name": "ipython",
    "version": 3
   },
   "file_extension": ".py",
   "mimetype": "text/x-python",
   "name": "python",
   "nbconvert_exporter": "python",
   "pygments_lexer": "ipython3",
   "version": "3.9.6"
  }
 },
 "nbformat": 4,
 "nbformat_minor": 5
}
