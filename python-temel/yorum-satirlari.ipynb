{
 "cells": [
  {
   "cell_type": "markdown",
   "id": "05d2d5fa",
   "metadata": {},
   "source": [
    "# Comments\n",
    "\n",
    "\n",
    "- Diyelim ki birkaç kişilik bir projede çalışıyorsunuz, programın farklı kısımlarını farklı insanlar yazıyor.\n",
    "\n",
    "\n",
    "- Başkası sizin yazdığınız kodu kullanmak istediğinde kodun ne yaptığını bilmesi gerekiyor. İşte burada comment (yorum) devreye giriyor. Yazdığımız kodun ne yaptığını anlatan açıklamalar.\n",
    "\n",
    "\n",
    "- Yorumlar sadece insanların okuması için, program çalışırken burası program tarafından algılanmayacak.\n",
    "\n",
    "\n",
    "- Sadece başkasının okuması da şart değil, seneler sonra yazdığınız kodu yeniden kullanmak isteyebilirsiniz ve neyin ne olduğunu, kodun ne yaptığını unutmuş olabilirsiniz, bu yüzden bu açıklamalar kendi kodunuzu okurken de önemli. (seneler geçmesine de gerek yok, çok parçası olan bir problem üzerine çalışıyorsanız, şurada ne yapmıştım diye kendinizi bulmanız çok muhtemel - o yüzden yorum eklemeyi bir alışkanlık haline getirmek gayet yararlı bir durum.)\n",
    "\n",
    "### Tek Satıra Yorum Eklemek\n",
    "\n"
   ]
  },
  {
   "cell_type": "code",
   "execution_count": 1,
   "id": "e69ae964",
   "metadata": {},
   "outputs": [],
   "source": [
    "# limon değişkeni satılan limonları ifade ediyor\n",
    "limon = 2"
   ]
  },
  {
   "cell_type": "code",
   "execution_count": 2,
   "id": "c2a206c5",
   "metadata": {},
   "outputs": [
    {
     "name": "stdout",
     "output_type": "stream",
     "text": [
      "14\n"
     ]
    }
   ],
   "source": [
    "# sonuc değişkeni bir haftada kaç limon satıldığını belirtiyor\n",
    "sonuc = limon * 7\n",
    "print(sonuc)"
   ]
  },
  {
   "cell_type": "markdown",
   "id": "b7a33ce4",
   "metadata": {},
   "source": [
    "- Bunları ifadelerin yanlarına da yazabilirdik.\n"
   ]
  },
  {
   "cell_type": "code",
   "execution_count": 5,
   "id": "4898dae2",
   "metadata": {},
   "outputs": [],
   "source": [
    "limon = 2 # limon değişkeni satılan limonları ifade ediyor."
   ]
  },
  {
   "cell_type": "code",
   "execution_count": 6,
   "id": "abd1a46f",
   "metadata": {},
   "outputs": [
    {
     "name": "stdout",
     "output_type": "stream",
     "text": [
      "14\n"
     ]
    }
   ],
   "source": [
    "sonuc = limon * 7 # sonuc değişkeni bir haftada kaç limon satıldığını belirtiyor.\n",
    "print(sonuc)"
   ]
  },
  {
   "cell_type": "markdown",
   "id": "94c41f09",
   "metadata": {},
   "source": [
    "### Birden Çok Satırı Kapsayan Yorum Yazmak\n"
   ]
  },
  {
   "cell_type": "code",
   "execution_count": 7,
   "id": "417b9045",
   "metadata": {},
   "outputs": [
    {
     "name": "stdout",
     "output_type": "stream",
     "text": [
      "14\n"
     ]
    }
   ],
   "source": [
    "\"\"\" limon değişkeni satılan limonları ifade ediyor. sonuc değişkeni bir haftada kaç limon satıldığını belirtiyor. \"\"\"\n",
    "\n",
    "limon = 2\n",
    "\n",
    "sonuc = limon * 7\n",
    "\n",
    "print(sonuc)"
   ]
  },
  {
   "cell_type": "code",
   "execution_count": null,
   "id": "f7b9a2f0",
   "metadata": {},
   "outputs": [],
   "source": []
  }
 ],
 "metadata": {
  "kernelspec": {
   "display_name": "Python 3 (ipykernel)",
   "language": "python",
   "name": "python3"
  },
  "language_info": {
   "codemirror_mode": {
    "name": "ipython",
    "version": 3
   },
   "file_extension": ".py",
   "mimetype": "text/x-python",
   "name": "python",
   "nbconvert_exporter": "python",
   "pygments_lexer": "ipython3",
   "version": "3.9.6"
  }
 },
 "nbformat": 4,
 "nbformat_minor": 5
}
