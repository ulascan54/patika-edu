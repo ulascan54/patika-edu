{
 "cells": [
  {
   "cell_type": "markdown",
   "id": "a12a51a3",
   "metadata": {},
   "source": [
    "# Ternary Conditionals\n",
    "\n",
    "\n",
    "- Ternary Conditionals aslında daha önce yapamadığımız bir şeyi yapabilmemize olanak sağlamayacak. if-else mantığını tek satırda kullanıp döndürülecek, sonucu ona göre belirlememizi sağlayacak.\n",
    "\n",
    "\n",
    "- Diyelim ki belirli bir durumu test edip, x değişkeninin değerini bu testin sonucuna göre belirlemek istiyorum. Soruya cevabım \"y\" olursa değeri 2'ye, yoksa 0'a eşitleyeceğim."
   ]
  },
  {
   "cell_type": "code",
   "execution_count": 2,
   "id": "5bb24fe1",
   "metadata": {},
   "outputs": [
    {
     "name": "stdout",
     "output_type": "stream",
     "text": [
      "x in değeri 2 olsun mu? y/ny\n",
      "2\n"
     ]
    }
   ],
   "source": [
    "# cevap olarak \"y\" (yes->evet) veya \"n\"(no->hayır) vereceğiz\n",
    "cevap = input(\"x in değeri 2 olsun mu? y/n\")\n",
    "\n",
    "if cevap == \"y\": # cevap == \"y\" testimiz oluyor\n",
    "    x = 2\n",
    "else:\n",
    "    x = 0\n",
    "\n",
    "print(x)"
   ]
  },
  {
   "cell_type": "markdown",
   "id": "90a06ebe",
   "metadata": {},
   "source": [
    "Bunun aynısını tek satırda şu şekilde yapabilirdik:"
   ]
  },
  {
   "cell_type": "code",
   "execution_count": 6,
   "id": "950d2f26",
   "metadata": {},
   "outputs": [
    {
     "name": "stdout",
     "output_type": "stream",
     "text": [
      "x in değeri 2 olsun mu? y/ny\n",
      "2\n"
     ]
    }
   ],
   "source": [
    "cevap = input(\"x in değeri 2 olsun mu? y/n\")\n",
    "x = 2 if cevap==\"y\" else 0\n",
    "print(x)"
   ]
  },
  {
   "cell_type": "code",
   "execution_count": 10,
   "id": "6f3a0184",
   "metadata": {},
   "outputs": [
    {
     "name": "stdout",
     "output_type": "stream",
     "text": [
      "x in değeri 2 olsun mu? y/ny\n"
     ]
    }
   ],
   "source": [
    "cevap = input(\"x in değeri 2 olsun mu? y/n\")\n",
    "condition = cevap == \"y\"\n",
    "x = 2 if condition else 0"
   ]
  },
  {
   "cell_type": "code",
   "execution_count": 11,
   "id": "06ef9917",
   "metadata": {},
   "outputs": [
    {
     "data": {
      "text/plain": [
       "2"
      ]
     },
     "execution_count": 11,
     "metadata": {},
     "output_type": "execute_result"
    }
   ],
   "source": [
    "x"
   ]
  },
  {
   "cell_type": "code",
   "execution_count": null,
   "id": "d38c7407",
   "metadata": {},
   "outputs": [],
   "source": []
  }
 ],
 "metadata": {
  "kernelspec": {
   "display_name": "Python 3 (ipykernel)",
   "language": "python",
   "name": "python3"
  },
  "language_info": {
   "codemirror_mode": {
    "name": "ipython",
    "version": 3
   },
   "file_extension": ".py",
   "mimetype": "text/x-python",
   "name": "python",
   "nbconvert_exporter": "python",
   "pygments_lexer": "ipython3",
   "version": "3.9.6"
  }
 },
 "nbformat": 4,
 "nbformat_minor": 5
}
