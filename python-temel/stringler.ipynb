{
 "cells": [
  {
   "cell_type": "markdown",
   "id": "b97b904c",
   "metadata": {},
   "source": [
    "# String\n",
    "\n",
    "\n",
    "- Şimdiye kadar sadece sayılar ile uğraştık. Bu notebook'ta yeni bir veri tipine, String'lere bakalım\n",
    "\n",
    "\n",
    "- Stringler karakterlerden oluşan bir dizidir aslında. Stringlerin elemanları karakterlerdir.\n",
    "\n",
    "\n",
    "- Karakterler: (a,b,c,d...) gibi harfler, (*, ?, =, <, >, /...) gibi özel karakterler, (1,2,3...) gibi yazı biçiminde sayılar, boşluk(space) karakter olarak adlandırılabilir.\n",
    "\n",
    "\n",
    "- String'ler Karakterlerden veya bunların kombinasyonlarından oluşabilirler.\n",
    "\n",
    "\n",
    "- Bir şeyin String olduğunu belirtmek için yazacaklarımızı ikili tırnak (\"örnek\") veya tekli tırnak ('örnek') içine yazarız.\n",
    "\n",
    "\n",
    "- Tırnak işaretlerinin yaptığı şey aslında: Bu tırnak işaretlerinin içinde verdiğim diziye karakterler dizisi olarak davran, öyle algıla demek.\n",
    "\n",
    "\n",
    "- İkili tırnak içine de yazsak, tekli tırnak içine de yazsak aynı şekilde algılanır. Önemli olan hangisiyle başladıysak onunla bitirmek.\n",
    "\n",
    "\n",
    "- Scalar ve Non-scalar objelerden bahsetmiştik. Non-scalar veri tiplerinin daha alt parçalara bölünebilen, elemanlar içeren yapılar olduğunu konuşmuştuk. String non-scalar bir veri tipi. İçsel yapı olarak karakterlerden oluşuyor.\n",
    "\n",
    "\n",
    "- Stringler immutable veri tipidir.\n",
    "\n",
    "\n",
    "- Immutable: Elemanlarının değerleri değiştirilemez.\n"
   ]
  },
  {
   "cell_type": "code",
   "execution_count": 6,
   "id": "6ac979b6",
   "metadata": {},
   "outputs": [
    {
     "data": {
      "text/plain": [
       "5"
      ]
     },
     "execution_count": 6,
     "metadata": {},
     "output_type": "execute_result"
    }
   ],
   "source": [
    "5"
   ]
  },
  {
   "cell_type": "code",
   "execution_count": 2,
   "id": "010d0a5e",
   "metadata": {},
   "outputs": [
    {
     "data": {
      "text/plain": [
       "'5'"
      ]
     },
     "execution_count": 2,
     "metadata": {},
     "output_type": "execute_result"
    }
   ],
   "source": [
    "\"5\""
   ]
  },
  {
   "cell_type": "code",
   "execution_count": 3,
   "id": "8d8f37b5",
   "metadata": {},
   "outputs": [
    {
     "data": {
      "text/plain": [
       "'a'"
      ]
     },
     "execution_count": 3,
     "metadata": {},
     "output_type": "execute_result"
    }
   ],
   "source": [
    "'a'"
   ]
  },
  {
   "cell_type": "code",
   "execution_count": 4,
   "id": "21b17787",
   "metadata": {},
   "outputs": [
    {
     "data": {
      "text/plain": [
       "'a'"
      ]
     },
     "execution_count": 4,
     "metadata": {},
     "output_type": "execute_result"
    }
   ],
   "source": [
    "\"a\""
   ]
  },
  {
   "cell_type": "code",
   "execution_count": 7,
   "id": "eb3d482a",
   "metadata": {},
   "outputs": [
    {
     "ename": "SyntaxError",
     "evalue": "EOL while scanning string literal (2742994915.py, line 2)",
     "output_type": "error",
     "traceback": [
      "\u001b[0;36m  Cell \u001b[0;32mIn[7], line 2\u001b[0;36m\u001b[0m\n\u001b[0;31m    \"a'\u001b[0m\n\u001b[0m       ^\u001b[0m\n\u001b[0;31mSyntaxError\u001b[0m\u001b[0;31m:\u001b[0m EOL while scanning string literal\n"
     ]
    }
   ],
   "source": [
    "# Hangisiyle başladıysak onunla bitirmeliyiz\n",
    "\"a'"
   ]
  },
  {
   "cell_type": "code",
   "execution_count": 8,
   "id": "ec0d4e69",
   "metadata": {},
   "outputs": [
    {
     "data": {
      "text/plain": [
       "'5 + 10'"
      ]
     },
     "execution_count": 8,
     "metadata": {},
     "output_type": "execute_result"
    }
   ],
   "source": [
    "# Burada +'ya operatör olarak davranılmıyor, yazı olarak davranılıyor.\n",
    "\"5 + 10\""
   ]
  },
  {
   "cell_type": "code",
   "execution_count": 9,
   "id": "99c59e77",
   "metadata": {},
   "outputs": [
    {
     "data": {
      "text/plain": [
       "str"
      ]
     },
     "execution_count": 9,
     "metadata": {},
     "output_type": "execute_result"
    }
   ],
   "source": [
    "type('Hmm o zaman x=5 diyebilir miyiz?')"
   ]
  },
  {
   "cell_type": "code",
   "execution_count": 10,
   "id": "a38d64a9",
   "metadata": {},
   "outputs": [
    {
     "data": {
      "text/plain": [
       "str"
      ]
     },
     "execution_count": 10,
     "metadata": {},
     "output_type": "execute_result"
    }
   ],
   "source": [
    "type(\"5\")\n"
   ]
  },
  {
   "cell_type": "code",
   "execution_count": 11,
   "id": "b859fc63",
   "metadata": {},
   "outputs": [
    {
     "data": {
      "text/plain": [
       "str"
      ]
     },
     "execution_count": 11,
     "metadata": {},
     "output_type": "execute_result"
    }
   ],
   "source": [
    "type(\"5 + 10\")\n"
   ]
  },
  {
   "cell_type": "markdown",
   "id": "8180c5ba",
   "metadata": {},
   "source": [
    "Hangisiyle başladıysak onunla bitireceğimiz için kesme işareti ve alıntı yapmada hangisiyle başladığımız önemli olabilir (bu ayrımı nasıl yapacağım, buna göre mi tasarlayacağım diyenler için iyi haber - escape character kısmını işleyince daha iyi bir yolunu göreceğiz)"
   ]
  },
  {
   "cell_type": "code",
   "execution_count": 12,
   "id": "a0f63276",
   "metadata": {},
   "outputs": [
    {
     "data": {
      "text/plain": [
       "\"Bugün Kadıköy'e gidiyorum\""
      ]
     },
     "execution_count": 12,
     "metadata": {},
     "output_type": "execute_result"
    }
   ],
   "source": [
    "\"Bugün Kadıköy'e gidiyorum\""
   ]
  },
  {
   "cell_type": "code",
   "execution_count": 14,
   "id": "0f16dbf2",
   "metadata": {},
   "outputs": [
    {
     "ename": "SyntaxError",
     "evalue": "invalid syntax (1141162360.py, line 1)",
     "output_type": "error",
     "traceback": [
      "\u001b[0;36m  Cell \u001b[0;32mIn[14], line 1\u001b[0;36m\u001b[0m\n\u001b[0;31m    'Bugün Kadıköy'e gidiyorum'\u001b[0m\n\u001b[0m                   ^\u001b[0m\n\u001b[0;31mSyntaxError\u001b[0m\u001b[0;31m:\u001b[0m invalid syntax\n"
     ]
    }
   ],
   "source": [
    "'Bugün Kadıköy'e gidiyorum'"
   ]
  },
  {
   "cell_type": "code",
   "execution_count": 15,
   "id": "c3e94d42",
   "metadata": {},
   "outputs": [
    {
     "ename": "SyntaxError",
     "evalue": "invalid syntax (767657247.py, line 1)",
     "output_type": "error",
     "traceback": [
      "\u001b[0;36m  Cell \u001b[0;32mIn[15], line 1\u001b[0;36m\u001b[0m\n\u001b[0;31m    \"Bana \"Bugün Kadıköy'e gidiyorum\" dedi\"\u001b[0m\n\u001b[0m           ^\u001b[0m\n\u001b[0;31mSyntaxError\u001b[0m\u001b[0;31m:\u001b[0m invalid syntax\n"
     ]
    }
   ],
   "source": [
    "\"Bana \"Bugün Kadıköy'e gidiyorum\" dedi\""
   ]
  },
  {
   "cell_type": "code",
   "execution_count": 16,
   "id": "c60ae7e7",
   "metadata": {},
   "outputs": [
    {
     "ename": "SyntaxError",
     "evalue": "invalid syntax (2428503427.py, line 1)",
     "output_type": "error",
     "traceback": [
      "\u001b[0;36m  Cell \u001b[0;32mIn[16], line 1\u001b[0;36m\u001b[0m\n\u001b[0;31m    'Bana \"Bugün Kadıköy'e gidiyorum\" dedi'\u001b[0m\n\u001b[0m                         ^\u001b[0m\n\u001b[0;31mSyntaxError\u001b[0m\u001b[0;31m:\u001b[0m invalid syntax\n"
     ]
    }
   ],
   "source": [
    "'Bana \"Bugün Kadıköy'e gidiyorum\" dedi'\n"
   ]
  },
  {
   "cell_type": "markdown",
   "id": "e227f476",
   "metadata": {},
   "source": [
    "## Escape Sequence"
   ]
  },
  {
   "cell_type": "code",
   "execution_count": 17,
   "id": "29b48f1f",
   "metadata": {},
   "outputs": [
    {
     "data": {
      "text/plain": [
       "'Bana \"Bugün ne yapıyorsun\" dedi'"
      ]
     },
     "execution_count": 17,
     "metadata": {},
     "output_type": "execute_result"
    }
   ],
   "source": [
    "\"Bana \\\"Bugün ne yapıyorsun\\\" dedi\""
   ]
  },
  {
   "cell_type": "code",
   "execution_count": 18,
   "id": "bfe98160",
   "metadata": {},
   "outputs": [
    {
     "data": {
      "text/plain": [
       "\"Bugün Kadıköy'e gidiyorum\""
      ]
     },
     "execution_count": 18,
     "metadata": {},
     "output_type": "execute_result"
    }
   ],
   "source": [
    "'Bugün Kadıköy\\'e gidiyorum'"
   ]
  },
  {
   "cell_type": "code",
   "execution_count": 19,
   "id": "2231fd9b",
   "metadata": {},
   "outputs": [
    {
     "name": "stdout",
     "output_type": "stream",
     "text": [
      "hey\n",
      "nasılsın\n"
     ]
    }
   ],
   "source": [
    "print(\"hey\\nnasılsın\")\n"
   ]
  },
  {
   "cell_type": "code",
   "execution_count": 20,
   "id": "b05c81b9",
   "metadata": {},
   "outputs": [
    {
     "name": "stdout",
     "output_type": "stream",
     "text": [
      "hey\tnasılsın\n"
     ]
    }
   ],
   "source": [
    "print(\"hey\\tnasılsın\")\n"
   ]
  },
  {
   "cell_type": "code",
   "execution_count": 21,
   "id": "9ac1d714",
   "metadata": {},
   "outputs": [
    {
     "ename": "SyntaxError",
     "evalue": "EOL while scanning string literal (2002776260.py, line 1)",
     "output_type": "error",
     "traceback": [
      "\u001b[0;36m  Cell \u001b[0;32mIn[21], line 1\u001b[0;36m\u001b[0m\n\u001b[0;31m    print(\"hmm \\\")\u001b[0m\n\u001b[0m                  ^\u001b[0m\n\u001b[0;31mSyntaxError\u001b[0m\u001b[0;31m:\u001b[0m EOL while scanning string literal\n"
     ]
    }
   ],
   "source": [
    "print(\"hmm \\\")"
   ]
  },
  {
   "cell_type": "code",
   "execution_count": 22,
   "id": "677ba333",
   "metadata": {},
   "outputs": [
    {
     "name": "stdout",
     "output_type": "stream",
     "text": [
      "hmm \\\n"
     ]
    }
   ],
   "source": [
    "print(\"hmm \\\\\")\n"
   ]
  },
  {
   "cell_type": "code",
   "execution_count": 24,
   "id": "3e70562f",
   "metadata": {},
   "outputs": [
    {
     "data": {
      "text/plain": [
       "\"Bugün Mecidiyeköy'den Mecidiyeköy'\\\\ e 40 dakikada gittim.\""
      ]
     },
     "execution_count": 24,
     "metadata": {},
     "output_type": "execute_result"
    }
   ],
   "source": [
    "\"Bugün Mecidiyeköy'den Mecidiyeköy'\\ e 40 dakikada gittim.\""
   ]
  },
  {
   "cell_type": "markdown",
   "id": "6b1176af",
   "metadata": {},
   "source": [
    "## String'lerde Değer Atama(Variable Assignment)\n",
    "\n",
    "\n",
    "Sayısal veri tiplerinde nasıl ki değer atayabiliyor, verilerin değerlerine isim verebiliyorsak, aynısını stringler için de yapabiliyoruz."
   ]
  },
  {
   "cell_type": "code",
   "execution_count": 25,
   "id": "b1b61c1d",
   "metadata": {},
   "outputs": [],
   "source": [
    "merhaba = \"Merhaba nasılsın bugün?\"\n"
   ]
  },
  {
   "cell_type": "code",
   "execution_count": 26,
   "id": "81d864ec",
   "metadata": {},
   "outputs": [
    {
     "name": "stdout",
     "output_type": "stream",
     "text": [
      "Merhaba nasılsın bugün?\n"
     ]
    }
   ],
   "source": [
    "print(merhaba)\n"
   ]
  },
  {
   "cell_type": "markdown",
   "id": "c3a1d469",
   "metadata": {},
   "source": [
    "### String Concatenation\n",
    "\n",
    "\n",
    "- Operatörlerin uygulandıkları objelere göre değişik şeyler ifade edebileceğini konuşmuştuk.\n",
    "\n",
    "\n",
    "- (+) operatörü sayısal veri tipleri üzerine etki edince toplama işlemi yapıyor. Ama uygulandığı objeler string ise yapacağı işlem concatenation (birleştirme) olacak. İki string'i art arta birleştirecek.\n",
    "\n",
    "\n",
    "- En çok karıştırılan durumlardan biri string olarak ifade edilen sayıları + operatörüne sokmak."
   ]
  },
  {
   "cell_type": "code",
   "execution_count": 27,
   "id": "9bd18537",
   "metadata": {},
   "outputs": [
    {
     "data": {
      "text/plain": [
       "'54'"
      ]
     },
     "execution_count": 27,
     "metadata": {},
     "output_type": "execute_result"
    }
   ],
   "source": [
    "\"5\" + \"4\"\n"
   ]
  },
  {
   "cell_type": "markdown",
   "id": "a3e48f3f",
   "metadata": {},
   "source": [
    "Python tırnak işareti içinde verdiklerimize karater olarak davrandığı için artık 5 ve 4 ü sayı olarak algılamıyor. + işlemi burada artık bu iki değeri yan yana koy demek, topla demek değil!\n"
   ]
  },
  {
   "cell_type": "code",
   "execution_count": 28,
   "id": "4d021315",
   "metadata": {},
   "outputs": [
    {
     "data": {
      "text/plain": [
       "'heynasılsın?'"
      ]
     },
     "execution_count": 28,
     "metadata": {},
     "output_type": "execute_result"
    }
   ],
   "source": [
    "\"hey\"+\"nasılsın?\"\n"
   ]
  },
  {
   "cell_type": "markdown",
   "id": "4d3bca8c",
   "metadata": {},
   "source": [
    "- (+) operatörünün tek yaptığı birleştirmek, stringlerde boşluk(space) olmadığı için ifadenin sonucu boşluksuz çıktı.\n"
   ]
  },
  {
   "cell_type": "code",
   "execution_count": 29,
   "id": "bb61aa34",
   "metadata": {},
   "outputs": [
    {
     "data": {
      "text/plain": [
       "'hey nasılsın?'"
      ]
     },
     "execution_count": 29,
     "metadata": {},
     "output_type": "execute_result"
    }
   ],
   "source": [
    "\"hey\" + \" nasılsın?\"\n"
   ]
  },
  {
   "cell_type": "code",
   "execution_count": 30,
   "id": "557613bf",
   "metadata": {},
   "outputs": [
    {
     "data": {
      "text/plain": [
       "'hey nasılsın?'"
      ]
     },
     "execution_count": 30,
     "metadata": {},
     "output_type": "execute_result"
    }
   ],
   "source": [
    "\"hey\" + \" \" + \"nasılsın?\"\n"
   ]
  },
  {
   "cell_type": "markdown",
   "id": "6eb3a68f",
   "metadata": {},
   "source": [
    "- Aynısını değer ataması yaparak da yapabilirdik\n",
    "\n",
    "- Diyelim ki karşılama mesajı yazmak istiyoruz. İsim ve karşılama kısmını ayrı tutacağız. Çünkü belki karşılayacağımız kişinin ismi değişecek ve ben kodumda sadece o değeri değiştirerek karşılama mantığını korumaya devam edeyim istiyorum."
   ]
  },
  {
   "cell_type": "code",
   "execution_count": 32,
   "id": "da225099",
   "metadata": {},
   "outputs": [],
   "source": [
    "mesaj = \"Merhaba\"\n"
   ]
  },
  {
   "cell_type": "code",
   "execution_count": 33,
   "id": "8b56ad40",
   "metadata": {},
   "outputs": [],
   "source": [
    "isim = \"Berkay\"\n"
   ]
  },
  {
   "cell_type": "code",
   "execution_count": 34,
   "id": "7f55ae2e",
   "metadata": {},
   "outputs": [
    {
     "data": {
      "text/plain": [
       "'Merhaba Berkay'"
      ]
     },
     "execution_count": 34,
     "metadata": {},
     "output_type": "execute_result"
    }
   ],
   "source": [
    "mesaj + \" \" + isim\n"
   ]
  },
  {
   "cell_type": "code",
   "execution_count": 35,
   "id": "f831ba07",
   "metadata": {},
   "outputs": [
    {
     "data": {
      "text/plain": [
       "'Merhaba Berkay'"
      ]
     },
     "execution_count": 35,
     "metadata": {},
     "output_type": "execute_result"
    }
   ],
   "source": [
    "'Merhaba Berkay'\n"
   ]
  },
  {
   "cell_type": "markdown",
   "id": "b4461cbb",
   "metadata": {},
   "source": [
    "Bu ifadenin değerini de başka bir değişkende tutabilirdik\n"
   ]
  },
  {
   "cell_type": "code",
   "execution_count": 36,
   "id": "d10a54ac",
   "metadata": {},
   "outputs": [],
   "source": [
    "karsilama = mesaj + \" \" + isim\n"
   ]
  },
  {
   "cell_type": "code",
   "execution_count": null,
   "id": "8c2c47ac",
   "metadata": {},
   "outputs": [],
   "source": []
  }
 ],
 "metadata": {
  "kernelspec": {
   "display_name": "Python 3 (ipykernel)",
   "language": "python",
   "name": "python3"
  },
  "language_info": {
   "codemirror_mode": {
    "name": "ipython",
    "version": 3
   },
   "file_extension": ".py",
   "mimetype": "text/x-python",
   "name": "python",
   "nbconvert_exporter": "python",
   "pygments_lexer": "ipython3",
   "version": "3.9.6"
  }
 },
 "nbformat": 4,
 "nbformat_minor": 5
}
