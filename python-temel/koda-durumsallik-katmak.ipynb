{
 "cells": [
  {
   "cell_type": "markdown",
   "id": "8d1858dc",
   "metadata": {},
   "source": [
    "# Nümerik Veri Tiplerinde Karşılaştırma:\n",
    "\n",
    "\n",
    "- Bir programın farklı durumlar olduğunda başka davranışlar göstermesini isteyebiliriz. Bunun için belirli testler yapmam lazım ve bu testler sonucuca göre farklı davranışlar tasarlamam lazım.\n",
    "\n",
    "\n",
    "- Bu testler için verilerimizi birbirleri ile karşılaştırabilir olmamız lazım. Bunları Comparison Operator'lar (karşılaştırma operatörleri) ile yapacağız. Cevabın True veya False olmasına göre, farklı durumlarda farklı davranacak program tasarlayabiliriz. Bu karşılaştırmalar o programların temelini oluşturacak.\n",
    "\n",
    "\n",
    "- Nümerik veri tiplerinde karşılaştırma deyince aklımıza bir kaç şey gelebilir:\n",
    "\n",
    "\n",
    "- i==j eşitlik testi (equality test). i ve j birbirlerine eşitse bu ifadenin değeri boolean veri objesi True, eşit değilse False olacak. = değişken atama operatörü olarak tanımlandığı için eşitlik test ederken onu kullanırsak ='in sağındaki değere solundaki adı vermiş oluruz.\n",
    "\n",
    "\n",
    "- i!=j eşitsizlik testi (inequality test). i ve j birbirlerine eşit değilse bu ifadenin değeri boolean veri objesi True, eşitse False olacak.\n",
    "\n",
    "\n",
    "- i>j i, j'den büyükse bu ifadenin değeri boolean veri objesi True, eşit veya az ise False olacak.\n",
    "\n",
    "\n",
    "- i>=j i, j'den büyükse veya eşitse bu ifadenin değeri boolean veri objesi True, az ise False olacak.\n",
    "\n",
    "\n",
    "- i<j i, j'den küçükse bu ifadenin değeri boolean veri objesi True, eşit veya büyük ise False olacak.\n",
    "\n",
    "\n",
    "- i<=j i, j'den küçükse veya eşitse bu ifadenin değeri boolean veri objesi True, büyük ise False olacak.\n",
    "\n",
    "## == Operator\n"
   ]
  },
  {
   "cell_type": "code",
   "execution_count": 1,
   "id": "a9ced113",
   "metadata": {},
   "outputs": [
    {
     "data": {
      "text/plain": [
       "False"
      ]
     },
     "execution_count": 1,
     "metadata": {},
     "output_type": "execute_result"
    }
   ],
   "source": [
    "5 == 4"
   ]
  },
  {
   "cell_type": "code",
   "execution_count": 2,
   "id": "8bc04666",
   "metadata": {},
   "outputs": [
    {
     "data": {
      "text/plain": [
       "True"
      ]
     },
     "execution_count": 2,
     "metadata": {},
     "output_type": "execute_result"
    }
   ],
   "source": [
    "5 == 5"
   ]
  },
  {
   "cell_type": "code",
   "execution_count": 3,
   "id": "622ea5f1",
   "metadata": {},
   "outputs": [],
   "source": [
    "i=10"
   ]
  },
  {
   "cell_type": "code",
   "execution_count": 7,
   "id": "f2826e49",
   "metadata": {},
   "outputs": [],
   "source": [
    "j=20"
   ]
  },
  {
   "cell_type": "code",
   "execution_count": 8,
   "id": "2b4e28bf",
   "metadata": {},
   "outputs": [
    {
     "data": {
      "text/plain": [
       "False"
      ]
     },
     "execution_count": 8,
     "metadata": {},
     "output_type": "execute_result"
    }
   ],
   "source": [
    "i ==j"
   ]
  },
  {
   "cell_type": "code",
   "execution_count": 9,
   "id": "7b40edae",
   "metadata": {},
   "outputs": [],
   "source": [
    "j=10"
   ]
  },
  {
   "cell_type": "code",
   "execution_count": 10,
   "id": "e1c245fa",
   "metadata": {},
   "outputs": [
    {
     "data": {
      "text/plain": [
       "True"
      ]
     },
     "execution_count": 10,
     "metadata": {},
     "output_type": "execute_result"
    }
   ],
   "source": [
    "i==j"
   ]
  },
  {
   "cell_type": "markdown",
   "id": "2f375ef2",
   "metadata": {},
   "source": [
    "Float veri tipleri için eşitlik karşılaştırması yaparken == kullanılması çok mantıklı değil, bunun nedenini ileriki derslerde göreceğiz.\n"
   ]
  },
  {
   "cell_type": "code",
   "execution_count": 11,
   "id": "4863376f",
   "metadata": {},
   "outputs": [
    {
     "data": {
      "text/plain": [
       "False"
      ]
     },
     "execution_count": 11,
     "metadata": {},
     "output_type": "execute_result"
    }
   ],
   "source": [
    "5.3 == 5.4"
   ]
  },
  {
   "cell_type": "code",
   "execution_count": 12,
   "id": "b01c60c1",
   "metadata": {},
   "outputs": [
    {
     "data": {
      "text/plain": [
       "True"
      ]
     },
     "execution_count": 12,
     "metadata": {},
     "output_type": "execute_result"
    }
   ],
   "source": [
    "5.4 == 5.4"
   ]
  },
  {
   "cell_type": "code",
   "execution_count": 13,
   "id": "0cf248a8",
   "metadata": {},
   "outputs": [
    {
     "data": {
      "text/plain": [
       "False"
      ]
     },
     "execution_count": 13,
     "metadata": {},
     "output_type": "execute_result"
    }
   ],
   "source": [
    "x = (0.3 * 3) + 0.1\n",
    "y = 1.0\n",
    "x == y"
   ]
  },
  {
   "cell_type": "code",
   "execution_count": 14,
   "id": "9f158f63",
   "metadata": {},
   "outputs": [
    {
     "data": {
      "text/plain": [
       "0.9999999999999999"
      ]
     },
     "execution_count": 14,
     "metadata": {},
     "output_type": "execute_result"
    }
   ],
   "source": [
    "x"
   ]
  },
  {
   "cell_type": "code",
   "execution_count": 15,
   "id": "ff6fc6ee",
   "metadata": {},
   "outputs": [
    {
     "data": {
      "text/plain": [
       "1.0"
      ]
     },
     "execution_count": 15,
     "metadata": {},
     "output_type": "execute_result"
    }
   ],
   "source": [
    "y"
   ]
  },
  {
   "cell_type": "markdown",
   "id": "369a0c98",
   "metadata": {},
   "source": [
    "## != operator"
   ]
  },
  {
   "cell_type": "code",
   "execution_count": 16,
   "id": "246d5440",
   "metadata": {},
   "outputs": [
    {
     "data": {
      "text/plain": [
       "True"
      ]
     },
     "execution_count": 16,
     "metadata": {},
     "output_type": "execute_result"
    }
   ],
   "source": [
    "5!=4"
   ]
  },
  {
   "cell_type": "code",
   "execution_count": 17,
   "id": "1a2a75ca",
   "metadata": {},
   "outputs": [
    {
     "data": {
      "text/plain": [
       "False"
      ]
     },
     "execution_count": 17,
     "metadata": {},
     "output_type": "execute_result"
    }
   ],
   "source": [
    "5!=5"
   ]
  },
  {
   "cell_type": "code",
   "execution_count": 18,
   "id": "fc0c2032",
   "metadata": {},
   "outputs": [],
   "source": [
    "i=10\n",
    "j=20"
   ]
  },
  {
   "cell_type": "code",
   "execution_count": 19,
   "id": "b40c8eec",
   "metadata": {},
   "outputs": [
    {
     "data": {
      "text/plain": [
       "True"
      ]
     },
     "execution_count": 19,
     "metadata": {},
     "output_type": "execute_result"
    }
   ],
   "source": [
    "i!=j"
   ]
  },
  {
   "cell_type": "code",
   "execution_count": 20,
   "id": "0f5643c6",
   "metadata": {},
   "outputs": [],
   "source": [
    "j=10"
   ]
  },
  {
   "cell_type": "code",
   "execution_count": 21,
   "id": "59e94df1",
   "metadata": {},
   "outputs": [
    {
     "data": {
      "text/plain": [
       "False"
      ]
     },
     "execution_count": 21,
     "metadata": {},
     "output_type": "execute_result"
    }
   ],
   "source": [
    "i!=j"
   ]
  },
  {
   "cell_type": "markdown",
   "id": "f84b9a9e",
   "metadata": {},
   "source": [
    "## >operator"
   ]
  },
  {
   "cell_type": "code",
   "execution_count": 22,
   "id": "fd32bdbc",
   "metadata": {},
   "outputs": [
    {
     "data": {
      "text/plain": [
       "True"
      ]
     },
     "execution_count": 22,
     "metadata": {},
     "output_type": "execute_result"
    }
   ],
   "source": [
    "5>4"
   ]
  },
  {
   "cell_type": "code",
   "execution_count": 23,
   "id": "27a756b8",
   "metadata": {},
   "outputs": [
    {
     "data": {
      "text/plain": [
       "False"
      ]
     },
     "execution_count": 23,
     "metadata": {},
     "output_type": "execute_result"
    }
   ],
   "source": [
    "5>5"
   ]
  },
  {
   "cell_type": "markdown",
   "id": "6f77b74d",
   "metadata": {},
   "source": [
    "## < operator"
   ]
  },
  {
   "cell_type": "code",
   "execution_count": 25,
   "id": "11217e4a",
   "metadata": {},
   "outputs": [
    {
     "data": {
      "text/plain": [
       "False"
      ]
     },
     "execution_count": 25,
     "metadata": {},
     "output_type": "execute_result"
    }
   ],
   "source": [
    "5<4"
   ]
  },
  {
   "cell_type": "code",
   "execution_count": 26,
   "id": "9848fab9",
   "metadata": {},
   "outputs": [
    {
     "data": {
      "text/plain": [
       "True"
      ]
     },
     "execution_count": 26,
     "metadata": {},
     "output_type": "execute_result"
    }
   ],
   "source": [
    "4<5"
   ]
  },
  {
   "cell_type": "code",
   "execution_count": 27,
   "id": "8efd521b",
   "metadata": {},
   "outputs": [
    {
     "data": {
      "text/plain": [
       "False"
      ]
     },
     "execution_count": 27,
     "metadata": {},
     "output_type": "execute_result"
    }
   ],
   "source": [
    "4<4"
   ]
  },
  {
   "cell_type": "markdown",
   "id": "11b015b6",
   "metadata": {},
   "source": [
    "# <=,>= operator"
   ]
  },
  {
   "cell_type": "code",
   "execution_count": 28,
   "id": "ff0074f6",
   "metadata": {},
   "outputs": [
    {
     "data": {
      "text/plain": [
       "True"
      ]
     },
     "execution_count": 28,
     "metadata": {},
     "output_type": "execute_result"
    }
   ],
   "source": [
    "5>=5"
   ]
  },
  {
   "cell_type": "code",
   "execution_count": 29,
   "id": "aff90b99",
   "metadata": {},
   "outputs": [
    {
     "data": {
      "text/plain": [
       "True"
      ]
     },
     "execution_count": 29,
     "metadata": {},
     "output_type": "execute_result"
    }
   ],
   "source": [
    "4<=4"
   ]
  },
  {
   "cell_type": "code",
   "execution_count": 30,
   "id": "326a519d",
   "metadata": {},
   "outputs": [
    {
     "data": {
      "text/plain": [
       "True"
      ]
     },
     "execution_count": 30,
     "metadata": {},
     "output_type": "execute_result"
    }
   ],
   "source": [
    "4<=5"
   ]
  },
  {
   "cell_type": "code",
   "execution_count": 31,
   "id": "cdcfa6b4",
   "metadata": {},
   "outputs": [
    {
     "data": {
      "text/plain": [
       "False"
      ]
     },
     "execution_count": 31,
     "metadata": {},
     "output_type": "execute_result"
    }
   ],
   "source": [
    "5<=4"
   ]
  },
  {
   "cell_type": "code",
   "execution_count": 32,
   "id": "fcc7c3c6",
   "metadata": {},
   "outputs": [
    {
     "data": {
      "text/plain": [
       "True"
      ]
     },
     "execution_count": 32,
     "metadata": {},
     "output_type": "execute_result"
    }
   ],
   "source": [
    "5>=4"
   ]
  },
  {
   "cell_type": "code",
   "execution_count": 33,
   "id": "acc73a7f",
   "metadata": {},
   "outputs": [
    {
     "data": {
      "text/plain": [
       "False"
      ]
     },
     "execution_count": 33,
     "metadata": {},
     "output_type": "execute_result"
    }
   ],
   "source": [
    "4>=5"
   ]
  },
  {
   "cell_type": "markdown",
   "id": "8f2ecd0b",
   "metadata": {},
   "source": [
    "# Stringlerde Karşılaştırma:\n"
   ]
  },
  {
   "cell_type": "code",
   "execution_count": 34,
   "id": "94394f8e",
   "metadata": {},
   "outputs": [
    {
     "data": {
      "text/plain": [
       "False"
      ]
     },
     "execution_count": 34,
     "metadata": {},
     "output_type": "execute_result"
    }
   ],
   "source": [
    "\"Elma\" == \"elma\""
   ]
  },
  {
   "cell_type": "code",
   "execution_count": 35,
   "id": "1caa4ae8",
   "metadata": {},
   "outputs": [
    {
     "data": {
      "text/plain": [
       "True"
      ]
     },
     "execution_count": 35,
     "metadata": {},
     "output_type": "execute_result"
    }
   ],
   "source": [
    "\"Elma\" != \"elma\"\n"
   ]
  },
  {
   "cell_type": "code",
   "execution_count": 36,
   "id": "c8bb2436",
   "metadata": {},
   "outputs": [],
   "source": [
    "a = \"elma\"\n"
   ]
  },
  {
   "cell_type": "code",
   "execution_count": 37,
   "id": "5b8a0c06",
   "metadata": {},
   "outputs": [],
   "source": [
    "b = \"elma\"\n"
   ]
  },
  {
   "cell_type": "code",
   "execution_count": 38,
   "id": "82f066fc",
   "metadata": {},
   "outputs": [
    {
     "data": {
      "text/plain": [
       "True"
      ]
     },
     "execution_count": 38,
     "metadata": {},
     "output_type": "execute_result"
    }
   ],
   "source": [
    "a == b\n"
   ]
  },
  {
   "cell_type": "code",
   "execution_count": 39,
   "id": "d636c9da",
   "metadata": {},
   "outputs": [
    {
     "data": {
      "text/plain": [
       "True"
      ]
     },
     "execution_count": 39,
     "metadata": {},
     "output_type": "execute_result"
    }
   ],
   "source": [
    "\"a\" < \"b\"\n"
   ]
  },
  {
   "cell_type": "code",
   "execution_count": 40,
   "id": "b0c75fd0",
   "metadata": {},
   "outputs": [
    {
     "data": {
      "text/plain": [
       "True"
      ]
     },
     "execution_count": 40,
     "metadata": {},
     "output_type": "execute_result"
    }
   ],
   "source": [
    "\"ab\" < \"b\"\n"
   ]
  },
  {
   "cell_type": "code",
   "execution_count": 41,
   "id": "f0c0525a",
   "metadata": {},
   "outputs": [
    {
     "data": {
      "text/plain": [
       "True"
      ]
     },
     "execution_count": 41,
     "metadata": {},
     "output_type": "execute_result"
    }
   ],
   "source": [
    "\"ab\" < \"badsfadsf\"\n"
   ]
  },
  {
   "cell_type": "code",
   "execution_count": 42,
   "id": "0866531f",
   "metadata": {},
   "outputs": [
    {
     "data": {
      "text/plain": [
       "True"
      ]
     },
     "execution_count": 42,
     "metadata": {},
     "output_type": "execute_result"
    }
   ],
   "source": [
    "\"ab\" < \"ac\"\n"
   ]
  },
  {
   "cell_type": "code",
   "execution_count": 43,
   "id": "6363b33c",
   "metadata": {},
   "outputs": [
    {
     "data": {
      "text/plain": [
       "False"
      ]
     },
     "execution_count": 43,
     "metadata": {},
     "output_type": "execute_result"
    }
   ],
   "source": [
    "\"abc\" < \"abb\"\n"
   ]
  },
  {
   "cell_type": "markdown",
   "id": "013877f8",
   "metadata": {},
   "source": [
    "# Mantıksal Operatörler (Logical Operators)\n",
    "\n",
    "\n",
    "- Verilerimizle nasıl karşılaştırma yapabileceğimizi gördük. Bunların cevaplarını birleştirmek isteyebiliriz. İki ifadenin sonucu da doğru olunca bir şey yapmak veya en az biri doğruyken bir şey yapmak isteyebilirim.\n",
    "\n",
    "\n",
    "- Bunu sağlayabilmek için boolean veri tipleri üzerine uygulanabilecek mantıksal operatörlere bakacağız.\n",
    "\n",
    "\n",
    "- Göreceğimiz mantıksal operatörlerinin uygulandığı veri tipleri boolean olmalı.\n",
    "\n",
    "## not"
   ]
  },
  {
   "cell_type": "code",
   "execution_count": 45,
   "id": "1d82c721",
   "metadata": {},
   "outputs": [
    {
     "data": {
      "text/plain": [
       "False"
      ]
     },
     "execution_count": 45,
     "metadata": {},
     "output_type": "execute_result"
    }
   ],
   "source": [
    "not True"
   ]
  },
  {
   "cell_type": "code",
   "execution_count": 46,
   "id": "0fe533d1",
   "metadata": {},
   "outputs": [
    {
     "data": {
      "text/plain": [
       "True"
      ]
     },
     "execution_count": 46,
     "metadata": {},
     "output_type": "execute_result"
    }
   ],
   "source": [
    "not False"
   ]
  },
  {
   "cell_type": "code",
   "execution_count": 47,
   "id": "516e4d59",
   "metadata": {},
   "outputs": [
    {
     "data": {
      "text/plain": [
       "False"
      ]
     },
     "execution_count": 47,
     "metadata": {},
     "output_type": "execute_result"
    }
   ],
   "source": [
    "not 5<6"
   ]
  },
  {
   "cell_type": "code",
   "execution_count": 48,
   "id": "af7228fb",
   "metadata": {},
   "outputs": [
    {
     "data": {
      "text/plain": [
       "False"
      ]
     },
     "execution_count": 48,
     "metadata": {},
     "output_type": "execute_result"
    }
   ],
   "source": [
    "not 5==5"
   ]
  },
  {
   "cell_type": "code",
   "execution_count": 51,
   "id": "e8851f83",
   "metadata": {},
   "outputs": [],
   "source": [
    "a=4\n",
    "b=10"
   ]
  },
  {
   "cell_type": "code",
   "execution_count": 52,
   "id": "f745a807",
   "metadata": {},
   "outputs": [
    {
     "data": {
      "text/plain": [
       "False"
      ]
     },
     "execution_count": 52,
     "metadata": {},
     "output_type": "execute_result"
    }
   ],
   "source": [
    "not a<b"
   ]
  },
  {
   "cell_type": "code",
   "execution_count": 53,
   "id": "84804d3a",
   "metadata": {},
   "outputs": [
    {
     "data": {
      "text/plain": [
       "True"
      ]
     },
     "execution_count": 53,
     "metadata": {},
     "output_type": "execute_result"
    }
   ],
   "source": [
    "not(a>b)"
   ]
  },
  {
   "cell_type": "markdown",
   "id": "2f8b1fb3",
   "metadata": {},
   "source": [
    "## and"
   ]
  },
  {
   "cell_type": "code",
   "execution_count": 54,
   "id": "c3719375",
   "metadata": {},
   "outputs": [
    {
     "data": {
      "text/plain": [
       "True"
      ]
     },
     "execution_count": 54,
     "metadata": {},
     "output_type": "execute_result"
    }
   ],
   "source": [
    "True and True\n"
   ]
  },
  {
   "cell_type": "code",
   "execution_count": 55,
   "id": "07ab9ca6",
   "metadata": {},
   "outputs": [
    {
     "data": {
      "text/plain": [
       "False"
      ]
     },
     "execution_count": 55,
     "metadata": {},
     "output_type": "execute_result"
    }
   ],
   "source": [
    "True and False\n"
   ]
  },
  {
   "cell_type": "code",
   "execution_count": 56,
   "id": "ff784ea5",
   "metadata": {},
   "outputs": [
    {
     "data": {
      "text/plain": [
       "False"
      ]
     },
     "execution_count": 56,
     "metadata": {},
     "output_type": "execute_result"
    }
   ],
   "source": [
    "False and False\n"
   ]
  },
  {
   "cell_type": "code",
   "execution_count": 57,
   "id": "5374c94f",
   "metadata": {},
   "outputs": [],
   "source": [
    "a=4\n",
    "b=1\n",
    "c=10"
   ]
  },
  {
   "cell_type": "code",
   "execution_count": 58,
   "id": "5764fa63",
   "metadata": {},
   "outputs": [
    {
     "data": {
      "text/plain": [
       "True"
      ]
     },
     "execution_count": 58,
     "metadata": {},
     "output_type": "execute_result"
    }
   ],
   "source": [
    "(a > b) and (b < c)\n"
   ]
  },
  {
   "cell_type": "code",
   "execution_count": 59,
   "id": "d366ab28",
   "metadata": {},
   "outputs": [
    {
     "data": {
      "text/plain": [
       "False"
      ]
     },
     "execution_count": 59,
     "metadata": {},
     "output_type": "execute_result"
    }
   ],
   "source": [
    "(a > b) and (b > c)\n"
   ]
  },
  {
   "cell_type": "markdown",
   "id": "429696a0",
   "metadata": {},
   "source": [
    "## or"
   ]
  },
  {
   "cell_type": "code",
   "execution_count": null,
   "id": "7fe21416",
   "metadata": {},
   "outputs": [],
   "source": []
  }
 ],
 "metadata": {
  "kernelspec": {
   "display_name": "Python 3 (ipykernel)",
   "language": "python",
   "name": "python3"
  },
  "language_info": {
   "codemirror_mode": {
    "name": "ipython",
    "version": 3
   },
   "file_extension": ".py",
   "mimetype": "text/x-python",
   "name": "python",
   "nbconvert_exporter": "python",
   "pygments_lexer": "ipython3",
   "version": "3.9.6"
  }
 },
 "nbformat": 4,
 "nbformat_minor": 5
}
