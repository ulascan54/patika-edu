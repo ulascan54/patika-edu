{
 "cells": [
  {
   "cell_type": "markdown",
   "id": "4a4177d9",
   "metadata": {},
   "source": [
    "# Operatörler ve İfadeler (Operators-Expressions)\n",
    "\n",
    "\n",
    "- Objeler(object) ve operatörlerin(operator) birleşimi expression'ları oluşturur.\n",
    "\n",
    "\n",
    "- Expression'ların değerleri (value)'ları vardır ve tabii ki de bunların tipleri vardır.\n",
    "\n",
    "\n",
    "- İfadeler şöyler oluşturulur: (object) (operator) (object)\n",
    "\n",
    "\n",
    "- Expression'ların tiplerini operator'un uygulandığı objelerin tipleri belirler.\n",
    "\n",
    "-------\n",
    "\n",
    "- **OPERATOR**"
   ]
  },
  {
   "cell_type": "code",
   "execution_count": 1,
   "id": "b6ccbe0b",
   "metadata": {},
   "outputs": [
    {
     "data": {
      "text/plain": [
       "4"
      ]
     },
     "execution_count": 1,
     "metadata": {},
     "output_type": "execute_result"
    }
   ],
   "source": [
    "# İki tane integer'ın toplamı integer verir.\n",
    "2 + 2"
   ]
  },
  {
   "cell_type": "code",
   "execution_count": null,
   "id": "eb07ab74",
   "metadata": {},
   "outputs": [],
   "source": []
  }
 ],
 "metadata": {
  "kernelspec": {
   "display_name": "Python 3 (ipykernel)",
   "language": "python",
   "name": "python3"
  },
  "language_info": {
   "codemirror_mode": {
    "name": "ipython",
    "version": 3
   },
   "file_extension": ".py",
   "mimetype": "text/x-python",
   "name": "python",
   "nbconvert_exporter": "python",
   "pygments_lexer": "ipython3",
   "version": "3.9.6"
  }
 },
 "nbformat": 4,
 "nbformat_minor": 5
}
