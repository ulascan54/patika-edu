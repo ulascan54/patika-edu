{
 "cells": [
  {
   "cell_type": "markdown",
   "id": "fb70f086",
   "metadata": {},
   "source": [
    "# String\n",
    "\n",
    "\n",
    "- Şimdiye kadar sadece sayılar ile uğraştık. Bu notebook'ta yeni bir veri tipine, String'lere bakalım\n",
    "\n",
    "\n",
    "- Stringler karakterlerden oluşan bir dizidir aslında. Stringlerin elemanları karakterlerdir.\n",
    "\n",
    "\n",
    "- Karakterler: (a,b,c,d...) gibi harfler, (*, ?, =, <, >, /...) gibi özel karakterler, (1,2,3...) gibi yazı biçiminde sayılar, boşluk(space) karakter olarak adlandırılabilir.\n",
    "\n",
    "\n",
    "- String'ler Karakterlerden veya bunların kombinasyonlarından oluşabilirler.\n",
    "\n",
    "\n",
    "- Bir şeyin String olduğunu belirtmek için yazacaklarımızı ikili tırnak (\"örnek\") veya tekli tırnak ('örnek') içine yazarız.\n",
    "\n",
    "\n",
    "- Tırnak işaretlerinin yaptığı şey aslında: Bu tırnak işaretlerinin içinde verdiğim diziye karakterler dizisi olarak davran, öyle algıla demek.\n",
    "\n",
    "\n",
    "- İkili tırnak içine de yazsak, tekli tırnak içine de yazsak aynı şekilde algılanır. Önemli olan hangisiyle başladıysak onunla bitirmek.\n",
    "\n",
    "\n",
    "- Scalar ve Non-scalar objelerden bahsetmiştik. Non-scalar veri tiplerinin daha alt parçalara bölünebilen, elemanlar içeren yapılar olduğunu konuşmuştuk. String non-scalar bir veri tipi. İçsel yapı olarak karakterlerden oluşuyor.\n",
    "\n",
    "\n",
    "- Stringler immutable veri tipidir.\n",
    "\n",
    "\n",
    "- Immutable: Elemanlarının değerleri değiştirilemez.\n"
   ]
  },
  {
   "cell_type": "code",
   "execution_count": 6,
   "id": "c8928825",
   "metadata": {},
   "outputs": [
    {
     "data": {
      "text/plain": [
       "5"
      ]
     },
     "execution_count": 6,
     "metadata": {},
     "output_type": "execute_result"
    }
   ],
   "source": [
    "5"
   ]
  },
  {
   "cell_type": "code",
   "execution_count": 2,
   "id": "2d5311fd",
   "metadata": {},
   "outputs": [
    {
     "data": {
      "text/plain": [
       "'5'"
      ]
     },
     "execution_count": 2,
     "metadata": {},
     "output_type": "execute_result"
    }
   ],
   "source": [
    "\"5\""
   ]
  },
  {
   "cell_type": "code",
   "execution_count": 3,
   "id": "dbccbb56",
   "metadata": {},
   "outputs": [
    {
     "data": {
      "text/plain": [
       "'a'"
      ]
     },
     "execution_count": 3,
     "metadata": {},
     "output_type": "execute_result"
    }
   ],
   "source": [
    "'a'"
   ]
  },
  {
   "cell_type": "code",
   "execution_count": 4,
   "id": "f4a50ccf",
   "metadata": {},
   "outputs": [
    {
     "data": {
      "text/plain": [
       "'a'"
      ]
     },
     "execution_count": 4,
     "metadata": {},
     "output_type": "execute_result"
    }
   ],
   "source": [
    "\"a\""
   ]
  },
  {
   "cell_type": "code",
   "execution_count": 7,
   "id": "a4c178f4",
   "metadata": {},
   "outputs": [
    {
     "ename": "SyntaxError",
     "evalue": "EOL while scanning string literal (2742994915.py, line 2)",
     "output_type": "error",
     "traceback": [
      "\u001b[0;36m  Cell \u001b[0;32mIn[7], line 2\u001b[0;36m\u001b[0m\n\u001b[0;31m    \"a'\u001b[0m\n\u001b[0m       ^\u001b[0m\n\u001b[0;31mSyntaxError\u001b[0m\u001b[0;31m:\u001b[0m EOL while scanning string literal\n"
     ]
    }
   ],
   "source": [
    "# Hangisiyle başladıysak onunla bitirmeliyiz\n",
    "\"a'"
   ]
  },
  {
   "cell_type": "code",
   "execution_count": 8,
   "id": "ae42a001",
   "metadata": {},
   "outputs": [
    {
     "data": {
      "text/plain": [
       "'5 + 10'"
      ]
     },
     "execution_count": 8,
     "metadata": {},
     "output_type": "execute_result"
    }
   ],
   "source": [
    "# Burada +'ya operatör olarak davranılmıyor, yazı olarak davranılıyor.\n",
    "\"5 + 10\""
   ]
  },
  {
   "cell_type": "code",
   "execution_count": 9,
   "id": "e16d049d",
   "metadata": {},
   "outputs": [
    {
     "data": {
      "text/plain": [
       "str"
      ]
     },
     "execution_count": 9,
     "metadata": {},
     "output_type": "execute_result"
    }
   ],
   "source": [
    "type('Hmm o zaman x=5 diyebilir miyiz?')"
   ]
  },
  {
   "cell_type": "code",
   "execution_count": 10,
   "id": "dd26a554",
   "metadata": {},
   "outputs": [
    {
     "data": {
      "text/plain": [
       "str"
      ]
     },
     "execution_count": 10,
     "metadata": {},
     "output_type": "execute_result"
    }
   ],
   "source": [
    "type(\"5\")\n"
   ]
  },
  {
   "cell_type": "code",
   "execution_count": 11,
   "id": "ffac4daa",
   "metadata": {},
   "outputs": [
    {
     "data": {
      "text/plain": [
       "str"
      ]
     },
     "execution_count": 11,
     "metadata": {},
     "output_type": "execute_result"
    }
   ],
   "source": [
    "type(\"5 + 10\")\n"
   ]
  },
  {
   "cell_type": "markdown",
   "id": "aa52e5ce",
   "metadata": {},
   "source": [
    "Hangisiyle başladıysak onunla bitireceğimiz için kesme işareti ve alıntı yapmada hangisiyle başladığımız önemli olabilir (bu ayrımı nasıl yapacağım, buna göre mi tasarlayacağım diyenler için iyi haber - escape character kısmını işleyince daha iyi bir yolunu göreceğiz)"
   ]
  },
  {
   "cell_type": "code",
   "execution_count": 12,
   "id": "5b01ee07",
   "metadata": {},
   "outputs": [
    {
     "data": {
      "text/plain": [
       "\"Bugün Kadıköy'e gidiyorum\""
      ]
     },
     "execution_count": 12,
     "metadata": {},
     "output_type": "execute_result"
    }
   ],
   "source": [
    "\"Bugün Kadıköy'e gidiyorum\""
   ]
  },
  {
   "cell_type": "code",
   "execution_count": 14,
   "id": "072bd846",
   "metadata": {},
   "outputs": [
    {
     "ename": "SyntaxError",
     "evalue": "invalid syntax (1141162360.py, line 1)",
     "output_type": "error",
     "traceback": [
      "\u001b[0;36m  Cell \u001b[0;32mIn[14], line 1\u001b[0;36m\u001b[0m\n\u001b[0;31m    'Bugün Kadıköy'e gidiyorum'\u001b[0m\n\u001b[0m                   ^\u001b[0m\n\u001b[0;31mSyntaxError\u001b[0m\u001b[0;31m:\u001b[0m invalid syntax\n"
     ]
    }
   ],
   "source": [
    "'Bugün Kadıköy'e gidiyorum'"
   ]
  },
  {
   "cell_type": "code",
   "execution_count": 15,
   "id": "f8f691b8",
   "metadata": {},
   "outputs": [
    {
     "ename": "SyntaxError",
     "evalue": "invalid syntax (767657247.py, line 1)",
     "output_type": "error",
     "traceback": [
      "\u001b[0;36m  Cell \u001b[0;32mIn[15], line 1\u001b[0;36m\u001b[0m\n\u001b[0;31m    \"Bana \"Bugün Kadıköy'e gidiyorum\" dedi\"\u001b[0m\n\u001b[0m           ^\u001b[0m\n\u001b[0;31mSyntaxError\u001b[0m\u001b[0;31m:\u001b[0m invalid syntax\n"
     ]
    }
   ],
   "source": [
    "\"Bana \"Bugün Kadıköy'e gidiyorum\" dedi\""
   ]
  },
  {
   "cell_type": "code",
   "execution_count": 16,
   "id": "0c28f3f3",
   "metadata": {},
   "outputs": [
    {
     "ename": "SyntaxError",
     "evalue": "invalid syntax (2428503427.py, line 1)",
     "output_type": "error",
     "traceback": [
      "\u001b[0;36m  Cell \u001b[0;32mIn[16], line 1\u001b[0;36m\u001b[0m\n\u001b[0;31m    'Bana \"Bugün Kadıköy'e gidiyorum\" dedi'\u001b[0m\n\u001b[0m                         ^\u001b[0m\n\u001b[0;31mSyntaxError\u001b[0m\u001b[0;31m:\u001b[0m invalid syntax\n"
     ]
    }
   ],
   "source": [
    "'Bana \"Bugün Kadıköy'e gidiyorum\" dedi'\n"
   ]
  },
  {
   "cell_type": "markdown",
   "id": "2fe5e9c0",
   "metadata": {},
   "source": [
    "## Escape Sequence"
   ]
  },
  {
   "cell_type": "code",
   "execution_count": 17,
   "id": "750e31e7",
   "metadata": {},
   "outputs": [
    {
     "data": {
      "text/plain": [
       "'Bana \"Bugün ne yapıyorsun\" dedi'"
      ]
     },
     "execution_count": 17,
     "metadata": {},
     "output_type": "execute_result"
    }
   ],
   "source": [
    "\"Bana \\\"Bugün ne yapıyorsun\\\" dedi\""
   ]
  },
  {
   "cell_type": "code",
   "execution_count": 18,
   "id": "0d3dcb60",
   "metadata": {},
   "outputs": [
    {
     "data": {
      "text/plain": [
       "\"Bugün Kadıköy'e gidiyorum\""
      ]
     },
     "execution_count": 18,
     "metadata": {},
     "output_type": "execute_result"
    }
   ],
   "source": [
    "'Bugün Kadıköy\\'e gidiyorum'"
   ]
  },
  {
   "cell_type": "code",
   "execution_count": 19,
   "id": "db6829c5",
   "metadata": {},
   "outputs": [
    {
     "name": "stdout",
     "output_type": "stream",
     "text": [
      "hey\n",
      "nasılsın\n"
     ]
    }
   ],
   "source": [
    "print(\"hey\\nnasılsın\")\n"
   ]
  },
  {
   "cell_type": "code",
   "execution_count": 20,
   "id": "b01aa172",
   "metadata": {},
   "outputs": [
    {
     "name": "stdout",
     "output_type": "stream",
     "text": [
      "hey\tnasılsın\n"
     ]
    }
   ],
   "source": [
    "print(\"hey\\tnasılsın\")\n"
   ]
  },
  {
   "cell_type": "code",
   "execution_count": 21,
   "id": "14d71a03",
   "metadata": {},
   "outputs": [
    {
     "ename": "SyntaxError",
     "evalue": "EOL while scanning string literal (2002776260.py, line 1)",
     "output_type": "error",
     "traceback": [
      "\u001b[0;36m  Cell \u001b[0;32mIn[21], line 1\u001b[0;36m\u001b[0m\n\u001b[0;31m    print(\"hmm \\\")\u001b[0m\n\u001b[0m                  ^\u001b[0m\n\u001b[0;31mSyntaxError\u001b[0m\u001b[0;31m:\u001b[0m EOL while scanning string literal\n"
     ]
    }
   ],
   "source": [
    "print(\"hmm \\\")"
   ]
  },
  {
   "cell_type": "code",
   "execution_count": 22,
   "id": "743b0f0a",
   "metadata": {},
   "outputs": [
    {
     "name": "stdout",
     "output_type": "stream",
     "text": [
      "hmm \\\n"
     ]
    }
   ],
   "source": [
    "print(\"hmm \\\\\")\n"
   ]
  },
  {
   "cell_type": "code",
   "execution_count": 24,
   "id": "95a4659b",
   "metadata": {},
   "outputs": [
    {
     "data": {
      "text/plain": [
       "\"Bugün Mecidiyeköy'den Mecidiyeköy'\\\\ e 40 dakikada gittim.\""
      ]
     },
     "execution_count": 24,
     "metadata": {},
     "output_type": "execute_result"
    }
   ],
   "source": [
    "\"Bugün Mecidiyeköy'den Mecidiyeköy'\\ e 40 dakikada gittim.\""
   ]
  },
  {
   "cell_type": "markdown",
   "id": "0f467514",
   "metadata": {},
   "source": [
    "## String'lerde Değer Atama(Variable Assignment)\n",
    "\n",
    "\n",
    "Sayısal veri tiplerinde nasıl ki değer atayabiliyor, verilerin değerlerine isim verebiliyorsak, aynısını stringler için de yapabiliyoruz."
   ]
  },
  {
   "cell_type": "code",
   "execution_count": 25,
   "id": "870c18bc",
   "metadata": {},
   "outputs": [],
   "source": [
    "merhaba = \"Merhaba nasılsın bugün?\"\n"
   ]
  },
  {
   "cell_type": "code",
   "execution_count": 26,
   "id": "b7ae9030",
   "metadata": {},
   "outputs": [
    {
     "name": "stdout",
     "output_type": "stream",
     "text": [
      "Merhaba nasılsın bugün?\n"
     ]
    }
   ],
   "source": [
    "print(merhaba)\n"
   ]
  },
  {
   "cell_type": "markdown",
   "id": "8351fc33",
   "metadata": {},
   "source": [
    "### String Concatenation\n",
    "\n",
    "\n",
    "- Operatörlerin uygulandıkları objelere göre değişik şeyler ifade edebileceğini konuşmuştuk.\n",
    "\n",
    "\n",
    "- (+) operatörü sayısal veri tipleri üzerine etki edince toplama işlemi yapıyor. Ama uygulandığı objeler string ise yapacağı işlem concatenation (birleştirme) olacak. İki string'i art arta birleştirecek.\n",
    "\n",
    "\n",
    "- En çok karıştırılan durumlardan biri string olarak ifade edilen sayıları + operatörüne sokmak."
   ]
  },
  {
   "cell_type": "code",
   "execution_count": 27,
   "id": "5752675a",
   "metadata": {},
   "outputs": [
    {
     "data": {
      "text/plain": [
       "'54'"
      ]
     },
     "execution_count": 27,
     "metadata": {},
     "output_type": "execute_result"
    }
   ],
   "source": [
    "\"5\" + \"4\"\n"
   ]
  },
  {
   "cell_type": "markdown",
   "id": "3d0d31d1",
   "metadata": {},
   "source": [
    "Python tırnak işareti içinde verdiklerimize karater olarak davrandığı için artık 5 ve 4 ü sayı olarak algılamıyor. + işlemi burada artık bu iki değeri yan yana koy demek, topla demek değil!\n"
   ]
  },
  {
   "cell_type": "code",
   "execution_count": 28,
   "id": "8ff520a1",
   "metadata": {},
   "outputs": [
    {
     "data": {
      "text/plain": [
       "'heynasılsın?'"
      ]
     },
     "execution_count": 28,
     "metadata": {},
     "output_type": "execute_result"
    }
   ],
   "source": [
    "\"hey\"+\"nasılsın?\"\n"
   ]
  },
  {
   "cell_type": "markdown",
   "id": "9b2cd111",
   "metadata": {},
   "source": [
    "- (+) operatörünün tek yaptığı birleştirmek, stringlerde boşluk(space) olmadığı için ifadenin sonucu boşluksuz çıktı.\n"
   ]
  },
  {
   "cell_type": "code",
   "execution_count": 29,
   "id": "83a183b3",
   "metadata": {},
   "outputs": [
    {
     "data": {
      "text/plain": [
       "'hey nasılsın?'"
      ]
     },
     "execution_count": 29,
     "metadata": {},
     "output_type": "execute_result"
    }
   ],
   "source": [
    "\"hey\" + \" nasılsın?\"\n"
   ]
  },
  {
   "cell_type": "code",
   "execution_count": 30,
   "id": "def75cb5",
   "metadata": {},
   "outputs": [
    {
     "data": {
      "text/plain": [
       "'hey nasılsın?'"
      ]
     },
     "execution_count": 30,
     "metadata": {},
     "output_type": "execute_result"
    }
   ],
   "source": [
    "\"hey\" + \" \" + \"nasılsın?\"\n"
   ]
  },
  {
   "cell_type": "markdown",
   "id": "ffba2c0d",
   "metadata": {},
   "source": [
    "- Aynısını değer ataması yaparak da yapabilirdik\n",
    "\n",
    "- Diyelim ki karşılama mesajı yazmak istiyoruz. İsim ve karşılama kısmını ayrı tutacağız. Çünkü belki karşılayacağımız kişinin ismi değişecek ve ben kodumda sadece o değeri değiştirerek karşılama mantığını korumaya devam edeyim istiyorum."
   ]
  },
  {
   "cell_type": "code",
   "execution_count": 32,
   "id": "8f9cc083",
   "metadata": {},
   "outputs": [],
   "source": [
    "mesaj = \"Merhaba\"\n"
   ]
  },
  {
   "cell_type": "code",
   "execution_count": 33,
   "id": "e3b45117",
   "metadata": {},
   "outputs": [],
   "source": [
    "isim = \"Berkay\"\n"
   ]
  },
  {
   "cell_type": "code",
   "execution_count": 34,
   "id": "28012164",
   "metadata": {},
   "outputs": [
    {
     "data": {
      "text/plain": [
       "'Merhaba Berkay'"
      ]
     },
     "execution_count": 34,
     "metadata": {},
     "output_type": "execute_result"
    }
   ],
   "source": [
    "mesaj + \" \" + isim\n"
   ]
  },
  {
   "cell_type": "code",
   "execution_count": 35,
   "id": "97298bc4",
   "metadata": {},
   "outputs": [
    {
     "data": {
      "text/plain": [
       "'Merhaba Berkay'"
      ]
     },
     "execution_count": 35,
     "metadata": {},
     "output_type": "execute_result"
    }
   ],
   "source": [
    "'Merhaba Berkay'\n"
   ]
  },
  {
   "cell_type": "markdown",
   "id": "224fb4da",
   "metadata": {},
   "source": [
    "Bu ifadenin değerini de başka bir değişkende tutabilirdik\n"
   ]
  },
  {
   "cell_type": "code",
   "execution_count": 36,
   "id": "cb153be8",
   "metadata": {},
   "outputs": [],
   "source": [
    "karsilama = mesaj + \" \" + isim\n"
   ]
  },
  {
   "cell_type": "code",
   "execution_count": 37,
   "id": "8418c217",
   "metadata": {},
   "outputs": [
    {
     "name": "stdout",
     "output_type": "stream",
     "text": [
      "Merhaba Berkay\n"
     ]
    }
   ],
   "source": [
    "print(karsilama)\n"
   ]
  },
  {
   "cell_type": "markdown",
   "id": "0df8fb40",
   "metadata": {},
   "source": [
    "Successive Concatenation(Ardışık Birleştirme)\n",
    "\n",
    "\n",
    "- (*) operatörü sayı objeleri için çarpım olarak tanımlanmışken, stringler için ard arda birleştirme işlemi yapıyor.\n"
   ]
  },
  {
   "cell_type": "code",
   "execution_count": 39,
   "id": "1f03ec12",
   "metadata": {},
   "outputs": [
    {
     "data": {
      "text/plain": [
       "'heyheyheyhey'"
      ]
     },
     "execution_count": 39,
     "metadata": {},
     "output_type": "execute_result"
    }
   ],
   "source": [
    "4 * \"hey\"\n"
   ]
  },
  {
   "cell_type": "code",
   "execution_count": 40,
   "id": "daa376d5",
   "metadata": {},
   "outputs": [
    {
     "data": {
      "text/plain": [
       "'10000000000'"
      ]
     },
     "execution_count": 40,
     "metadata": {},
     "output_type": "execute_result"
    }
   ],
   "source": [
    "\"1\" + \"0\" * 10\n"
   ]
  },
  {
   "cell_type": "markdown",
   "id": "89a2c46f",
   "metadata": {},
   "source": [
    "### len()\n",
    "\n",
    "\n",
    "Bu metod ile (metodları ileride ayrıntılı olara göreceğiz), elimizdeki string'in kaç karakterden oluştuğunu öğrenebiliriz (boşluklar da karakter olduğu için onlar da sayılıyor)"
   ]
  },
  {
   "cell_type": "code",
   "execution_count": 41,
   "id": "3899c873",
   "metadata": {},
   "outputs": [
    {
     "data": {
      "text/plain": [
       "1"
      ]
     },
     "execution_count": 41,
     "metadata": {},
     "output_type": "execute_result"
    }
   ],
   "source": [
    "len(\"4\")\n"
   ]
  },
  {
   "cell_type": "code",
   "execution_count": 42,
   "id": "a5c1b57b",
   "metadata": {},
   "outputs": [
    {
     "data": {
      "text/plain": [
       "2"
      ]
     },
     "execution_count": 42,
     "metadata": {},
     "output_type": "execute_result"
    }
   ],
   "source": [
    "len(\"42\")\n"
   ]
  },
  {
   "cell_type": "code",
   "execution_count": 43,
   "id": "f65808f8",
   "metadata": {},
   "outputs": [
    {
     "data": {
      "text/plain": [
       "3"
      ]
     },
     "execution_count": 43,
     "metadata": {},
     "output_type": "execute_result"
    }
   ],
   "source": [
    "len(\"hey\")\n"
   ]
  },
  {
   "cell_type": "code",
   "execution_count": 44,
   "id": "5e4121d1",
   "metadata": {},
   "outputs": [
    {
     "data": {
      "text/plain": [
       "4"
      ]
     },
     "execution_count": 44,
     "metadata": {},
     "output_type": "execute_result"
    }
   ],
   "source": [
    "len(\"hey!\")\n"
   ]
  },
  {
   "cell_type": "code",
   "execution_count": 45,
   "id": "4ae7889b",
   "metadata": {},
   "outputs": [
    {
     "data": {
      "text/plain": [
       "13"
      ]
     },
     "execution_count": 45,
     "metadata": {},
     "output_type": "execute_result"
    }
   ],
   "source": [
    "len(\"hey nasılsın?\")\n"
   ]
  },
  {
   "cell_type": "code",
   "execution_count": 46,
   "id": "e7bd364d",
   "metadata": {},
   "outputs": [
    {
     "data": {
      "text/plain": [
       "1"
      ]
     },
     "execution_count": 46,
     "metadata": {},
     "output_type": "execute_result"
    }
   ],
   "source": [
    "len(\" \")\n"
   ]
  },
  {
   "cell_type": "code",
   "execution_count": 47,
   "id": "47e9c1f7",
   "metadata": {},
   "outputs": [
    {
     "data": {
      "text/plain": [
       "0"
      ]
     },
     "execution_count": 47,
     "metadata": {},
     "output_type": "execute_result"
    }
   ],
   "source": [
    "len(\"\")\n"
   ]
  },
  {
   "cell_type": "markdown",
   "id": "400370ba",
   "metadata": {},
   "source": [
    "# Indexing (Elemanlara Erişme)\n",
    "\n",
    "\n",
    "- Stringlerin non-scalar veri tiplerine örnek olduğunu konuşmuştuk. Stringler elemanları karakter olan, alt birim olarak karakterler içeren bir veri tipi.\n",
    "\n",
    "\n",
    "- Stringler karakterler dizisi olduğu için, bu dizideki spesifik konumdaki elemanlara erişmek isteyebiliriz. Mesela string'in ilk karakteri nedir gibi.\n",
    "\n",
    "\n",
    "- Bir yapının alt elemanına erişmek için yapacağımız işleme indexing deniyor. Bunu köşeli parantez [] ile sağlayacağız.\n",
    "\n",
    "\n",
    "- isim diye bir değişken oluşturup, string'e eşitleyip, ilk elemanına(karakterine) erişelim.\n"
   ]
  },
  {
   "cell_type": "code",
   "execution_count": 1,
   "id": "de721ad1",
   "metadata": {},
   "outputs": [],
   "source": [
    "isim=\"Deniz\""
   ]
  },
  {
   "cell_type": "code",
   "execution_count": 2,
   "id": "ca90a398",
   "metadata": {},
   "outputs": [
    {
     "data": {
      "text/plain": [
       "'e'"
      ]
     },
     "execution_count": 2,
     "metadata": {},
     "output_type": "execute_result"
    }
   ],
   "source": [
    "isim[1]"
   ]
  },
  {
   "cell_type": "code",
   "execution_count": 3,
   "id": "0f0dbe8c",
   "metadata": {},
   "outputs": [
    {
     "data": {
      "text/plain": [
       "'e'"
      ]
     },
     "execution_count": 3,
     "metadata": {},
     "output_type": "execute_result"
    }
   ],
   "source": [
    "\"Deniz\"[1]"
   ]
  },
  {
   "cell_type": "markdown",
   "id": "378c19b1",
   "metadata": {},
   "source": [
    "**Python'da indexler 0dan başlıyor. Yani biz ilk elemana ulaşmak istiyorsak [0] ile sorgulamamız lazım.**\n"
   ]
  },
  {
   "cell_type": "code",
   "execution_count": 4,
   "id": "ae76e4cc",
   "metadata": {},
   "outputs": [
    {
     "data": {
      "text/plain": [
       "'D'"
      ]
     },
     "execution_count": 4,
     "metadata": {},
     "output_type": "execute_result"
    }
   ],
   "source": [
    "isim[0]"
   ]
  },
  {
   "cell_type": "code",
   "execution_count": 5,
   "id": "a43bf452",
   "metadata": {},
   "outputs": [
    {
     "data": {
      "text/plain": [
       "'d'"
      ]
     },
     "execution_count": 5,
     "metadata": {},
     "output_type": "execute_result"
    }
   ],
   "source": [
    "\"deniz\"[0]"
   ]
  },
  {
   "cell_type": "markdown",
   "id": "baa15d3e",
   "metadata": {},
   "source": [
    "- son elemana doğrdudan erişmek için [-1] yazabiliriz"
   ]
  },
  {
   "cell_type": "code",
   "execution_count": 6,
   "id": "c7cc0e8b",
   "metadata": {},
   "outputs": [
    {
     "data": {
      "text/plain": [
       "'z'"
      ]
     },
     "execution_count": 6,
     "metadata": {},
     "output_type": "execute_result"
    }
   ],
   "source": [
    "isim[-1]"
   ]
  },
  {
   "cell_type": "markdown",
   "id": "281d5828",
   "metadata": {},
   "source": [
    "- sondan 2. için :"
   ]
  },
  {
   "cell_type": "code",
   "execution_count": 8,
   "id": "6c75e44f",
   "metadata": {},
   "outputs": [
    {
     "data": {
      "text/plain": [
       "'i'"
      ]
     },
     "execution_count": 8,
     "metadata": {},
     "output_type": "execute_result"
    }
   ],
   "source": [
    "isim[-2]"
   ]
  },
  {
   "cell_type": "markdown",
   "id": "edf62afc",
   "metadata": {},
   "source": [
    "- Deniz 5 karakterden oluşuyor. Indexleri 0,1,2,3,4. Eğer ben 4 ten büyük bir index verirsem o indexte bir elemanı olmadığı için hata alırım."
   ]
  },
  {
   "cell_type": "code",
   "execution_count": 10,
   "id": "c64f8deb",
   "metadata": {},
   "outputs": [
    {
     "data": {
      "text/plain": [
       "5"
      ]
     },
     "execution_count": 10,
     "metadata": {},
     "output_type": "execute_result"
    }
   ],
   "source": [
    "len(isim)"
   ]
  },
  {
   "cell_type": "code",
   "execution_count": 11,
   "id": "1b49a2e6",
   "metadata": {},
   "outputs": [
    {
     "data": {
      "text/plain": [
       "'z'"
      ]
     },
     "execution_count": 11,
     "metadata": {},
     "output_type": "execute_result"
    }
   ],
   "source": [
    "isim[4]"
   ]
  },
  {
   "cell_type": "code",
   "execution_count": 12,
   "id": "e74b3887",
   "metadata": {},
   "outputs": [
    {
     "ename": "IndexError",
     "evalue": "string index out of range",
     "output_type": "error",
     "traceback": [
      "\u001b[0;31m---------------------------------------------------------------------------\u001b[0m",
      "\u001b[0;31mIndexError\u001b[0m                                Traceback (most recent call last)",
      "Cell \u001b[0;32mIn[12], line 1\u001b[0m\n\u001b[0;32m----> 1\u001b[0m \u001b[43misim\u001b[49m\u001b[43m[\u001b[49m\u001b[38;5;241;43m5\u001b[39;49m\u001b[43m]\u001b[49m\n",
      "\u001b[0;31mIndexError\u001b[0m: string index out of range"
     ]
    }
   ],
   "source": [
    "isim[5]"
   ]
  },
  {
   "cell_type": "code",
   "execution_count": 13,
   "id": "7c3e05bd",
   "metadata": {},
   "outputs": [
    {
     "ename": "IndexError",
     "evalue": "string index out of range",
     "output_type": "error",
     "traceback": [
      "\u001b[0;31m---------------------------------------------------------------------------\u001b[0m",
      "\u001b[0;31mIndexError\u001b[0m                                Traceback (most recent call last)",
      "Cell \u001b[0;32mIn[13], line 1\u001b[0m\n\u001b[0;32m----> 1\u001b[0m \u001b[43misim\u001b[49m\u001b[43m[\u001b[49m\u001b[38;5;241;43m10\u001b[39;49m\u001b[43m]\u001b[49m\n",
      "\u001b[0;31mIndexError\u001b[0m: string index out of range"
     ]
    }
   ],
   "source": [
    "isim[10]"
   ]
  },
  {
   "cell_type": "markdown",
   "id": "4364a3c9",
   "metadata": {},
   "source": [
    "- Stringlerin elemanlarının değiştirilemez olduğundan bahsetmiştik (immutable). O yüzden şöyle şeyler yapamayız: (elemanlarını değiştirebildiğimiz non-scalar veri tiplerini de göreceğiz)"
   ]
  },
  {
   "cell_type": "code",
   "execution_count": 15,
   "id": "c7ee6120",
   "metadata": {},
   "outputs": [
    {
     "data": {
      "text/plain": [
       "'Deniz'"
      ]
     },
     "execution_count": 15,
     "metadata": {},
     "output_type": "execute_result"
    }
   ],
   "source": [
    "isim"
   ]
  },
  {
   "cell_type": "code",
   "execution_count": 16,
   "id": "c84ae6bd",
   "metadata": {},
   "outputs": [
    {
     "ename": "TypeError",
     "evalue": "'str' object does not support item assignment",
     "output_type": "error",
     "traceback": [
      "\u001b[0;31m---------------------------------------------------------------------------\u001b[0m",
      "\u001b[0;31mTypeError\u001b[0m                                 Traceback (most recent call last)",
      "Cell \u001b[0;32mIn[16], line 1\u001b[0m\n\u001b[0;32m----> 1\u001b[0m \u001b[43misim\u001b[49m\u001b[43m[\u001b[49m\u001b[38;5;241;43m0\u001b[39;49m\u001b[43m]\u001b[49m\u001b[38;5;241m=\u001b[39m\u001b[38;5;124m'\u001b[39m\u001b[38;5;124mb\u001b[39m\u001b[38;5;124m'\u001b[39m\n",
      "\u001b[0;31mTypeError\u001b[0m: 'str' object does not support item assignment"
     ]
    }
   ],
   "source": [
    "isim[0]='b'"
   ]
  },
  {
   "cell_type": "markdown",
   "id": "5cfa61bf",
   "metadata": {},
   "source": [
    "## Slicing (Dilimleme)\n",
    "\n",
    "\n",
    "- Indexing ile sonuç olarak sadece bir eleman elde ettik. Ama birkaç tanesini arka arkaya, bir öbek olarak istiyorsam ne yapardım?\n",
    "\n",
    "\n",
    "- Diyelim ki ilk elemandan başlayarak 3. elemana kadar olan karakterleri elde etmek istiyorum (0. indexten 3. indexe kadar olanları)"
   ]
  },
  {
   "cell_type": "code",
   "execution_count": 17,
   "id": "061ee36f",
   "metadata": {},
   "outputs": [
    {
     "data": {
      "text/plain": [
       "'Deniz'"
      ]
     },
     "execution_count": 17,
     "metadata": {},
     "output_type": "execute_result"
    }
   ],
   "source": [
    "isim"
   ]
  },
  {
   "cell_type": "code",
   "execution_count": 18,
   "id": "a8877b5d",
   "metadata": {},
   "outputs": [
    {
     "data": {
      "text/plain": [
       "'Den'"
      ]
     },
     "execution_count": 18,
     "metadata": {},
     "output_type": "execute_result"
    }
   ],
   "source": [
    "# Burada önemli olan nokta ilk belirtilen indexing dahil edilip son olarak yazılanın dahil edilmemesi\n",
    "# 0,1,2 indexlerindekileri döndürdü sonuç olarak\n",
    "\n",
    "isim[0:3]"
   ]
  },
  {
   "cell_type": "code",
   "execution_count": 19,
   "id": "7ea418a2",
   "metadata": {},
   "outputs": [
    {
     "data": {
      "text/plain": [
       "'Den'"
      ]
     },
     "execution_count": 19,
     "metadata": {},
     "output_type": "execute_result"
    }
   ],
   "source": [
    "isim[:3]"
   ]
  },
  {
   "cell_type": "markdown",
   "id": "3c09beeb",
   "metadata": {},
   "source": [
    "- başlangıç:bitiş olarak veriyoruz ve bitiş olarak verdiğimiz index dahil olmuyor. Başlangıcı belirtmezsek Python default olarak başlangıç değerini 0 alıyor.\n",
    "- Bitişi belirtmezseniz Python String'in sonuna kadar alıyor, bu sefer son elemanını da dahil ediyor.\n"
   ]
  },
  {
   "cell_type": "code",
   "execution_count": 20,
   "id": "2849ed3a",
   "metadata": {},
   "outputs": [
    {
     "data": {
      "text/plain": [
       "'eniz'"
      ]
     },
     "execution_count": 20,
     "metadata": {},
     "output_type": "execute_result"
    }
   ],
   "source": [
    "isim[1:]"
   ]
  },
  {
   "cell_type": "code",
   "execution_count": 21,
   "id": "15afa4af",
   "metadata": {},
   "outputs": [
    {
     "data": {
      "text/plain": [
       "'Deniz'"
      ]
     },
     "execution_count": 21,
     "metadata": {},
     "output_type": "execute_result"
    }
   ],
   "source": [
    "isim[:]"
   ]
  },
  {
   "cell_type": "code",
   "execution_count": 22,
   "id": "c47be9f4",
   "metadata": {},
   "outputs": [
    {
     "data": {
      "text/plain": [
       "'Deniz'"
      ]
     },
     "execution_count": 22,
     "metadata": {},
     "output_type": "execute_result"
    }
   ],
   "source": [
    "isim[0:]"
   ]
  },
  {
   "cell_type": "markdown",
   "id": "88ba8c37",
   "metadata": {},
   "source": [
    "- Slicing yaparken bitiş olarak verdiğimiz değer en büyük indeximizden büyükse hata almayız, sadece sonuna kadar almış olur (sadece indexing yaparken en büyük indexten büyük değer verince hata alıyorduk.)"
   ]
  },
  {
   "cell_type": "code",
   "execution_count": 23,
   "id": "7f2966a0",
   "metadata": {},
   "outputs": [
    {
     "data": {
      "text/plain": [
       "5"
      ]
     },
     "execution_count": 23,
     "metadata": {},
     "output_type": "execute_result"
    }
   ],
   "source": [
    "len(isim)"
   ]
  },
  {
   "cell_type": "code",
   "execution_count": 24,
   "id": "b471627c",
   "metadata": {},
   "outputs": [
    {
     "data": {
      "text/plain": [
       "'eniz'"
      ]
     },
     "execution_count": 24,
     "metadata": {},
     "output_type": "execute_result"
    }
   ],
   "source": [
    "isim[1:20]"
   ]
  },
  {
   "cell_type": "code",
   "execution_count": 25,
   "id": "b84bbc15",
   "metadata": {},
   "outputs": [
    {
     "data": {
      "text/plain": [
       "'eniz'"
      ]
     },
     "execution_count": 25,
     "metadata": {},
     "output_type": "execute_result"
    }
   ],
   "source": [
    "isim[1:200]"
   ]
  },
  {
   "cell_type": "code",
   "execution_count": 26,
   "id": "23045651",
   "metadata": {},
   "outputs": [
    {
     "data": {
      "text/plain": [
       "'eniz'"
      ]
     },
     "execution_count": 26,
     "metadata": {},
     "output_type": "execute_result"
    }
   ],
   "source": [
    "isim[1:]"
   ]
  },
  {
   "cell_type": "markdown",
   "id": "d8cd068b",
   "metadata": {},
   "source": [
    "- başlangıç:bitiş olarak slicing yapabileceğimiz gibi, başlangıç:bitiş:adım formunda da slicing yapabiliriz. Burada adım parametresi kaçar kaçar gideceğimizi belirler.\n"
   ]
  },
  {
   "cell_type": "code",
   "execution_count": 27,
   "id": "9b2a6e3c",
   "metadata": {},
   "outputs": [
    {
     "data": {
      "text/plain": [
       "'Deniz'"
      ]
     },
     "execution_count": 27,
     "metadata": {},
     "output_type": "execute_result"
    }
   ],
   "source": [
    "isim"
   ]
  },
  {
   "cell_type": "code",
   "execution_count": 28,
   "id": "dca175aa",
   "metadata": {},
   "outputs": [
    {
     "data": {
      "text/plain": [
       "'Dnz'"
      ]
     },
     "execution_count": 28,
     "metadata": {},
     "output_type": "execute_result"
    }
   ],
   "source": [
    "isim[0:10:2]"
   ]
  },
  {
   "cell_type": "code",
   "execution_count": 29,
   "id": "cec7b776",
   "metadata": {},
   "outputs": [
    {
     "data": {
      "text/plain": [
       "'Di'"
      ]
     },
     "execution_count": 29,
     "metadata": {},
     "output_type": "execute_result"
    }
   ],
   "source": [
    "isim[0:10:3]"
   ]
  },
  {
   "cell_type": "markdown",
   "id": "aecf3caf",
   "metadata": {},
   "source": [
    "- Adım eksi bir değer de olabilir. Böylece ters yönce gitmiş oluruz. Ama başlangıç değerinin bitiş değerinden büyük olması lazım bunu yapabilmem için."
   ]
  },
  {
   "cell_type": "code",
   "execution_count": 30,
   "id": "0f884454",
   "metadata": {},
   "outputs": [
    {
     "data": {
      "text/plain": [
       "''"
      ]
     },
     "execution_count": 30,
     "metadata": {},
     "output_type": "execute_result"
    }
   ],
   "source": [
    "# 0. indexten 10. indexe 2 azalarak gidemez, o yüzden boş string döndürür\n",
    "isim[0:10:-1]"
   ]
  },
  {
   "cell_type": "code",
   "execution_count": 31,
   "id": "2ab2c9e7",
   "metadata": {},
   "outputs": [
    {
     "data": {
      "text/plain": [
       "'zine'"
      ]
     },
     "execution_count": 31,
     "metadata": {},
     "output_type": "execute_result"
    }
   ],
   "source": [
    "isim[10:0:-1]"
   ]
  },
  {
   "cell_type": "code",
   "execution_count": 32,
   "id": "87989c09",
   "metadata": {},
   "outputs": [
    {
     "data": {
      "text/plain": [
       "'zineD'"
      ]
     },
     "execution_count": 32,
     "metadata": {},
     "output_type": "execute_result"
    }
   ],
   "source": [
    "isim[::-1]"
   ]
  },
  {
   "cell_type": "code",
   "execution_count": 33,
   "id": "cab071e9",
   "metadata": {},
   "outputs": [
    {
     "data": {
      "text/plain": [
       "'znD'"
      ]
     },
     "execution_count": 33,
     "metadata": {},
     "output_type": "execute_result"
    }
   ],
   "source": [
    "isim[::-2]"
   ]
  },
  {
   "cell_type": "markdown",
   "id": "933b7ab2",
   "metadata": {},
   "source": [
    "# Stringlerde Casting"
   ]
  },
  {
   "cell_type": "code",
   "execution_count": 34,
   "id": "54140dd4",
   "metadata": {},
   "outputs": [],
   "source": [
    "a='5'"
   ]
  },
  {
   "cell_type": "code",
   "execution_count": 35,
   "id": "2a0ae7f0",
   "metadata": {},
   "outputs": [],
   "source": [
    "b='5.3'"
   ]
  },
  {
   "cell_type": "code",
   "execution_count": 36,
   "id": "c7d03851",
   "metadata": {},
   "outputs": [
    {
     "data": {
      "text/plain": [
       "5"
      ]
     },
     "execution_count": 36,
     "metadata": {},
     "output_type": "execute_result"
    }
   ],
   "source": [
    "int(a)"
   ]
  },
  {
   "cell_type": "code",
   "execution_count": 37,
   "id": "5deba492",
   "metadata": {},
   "outputs": [
    {
     "data": {
      "text/plain": [
       "5.3"
      ]
     },
     "execution_count": 37,
     "metadata": {},
     "output_type": "execute_result"
    }
   ],
   "source": [
    "float(b)"
   ]
  },
  {
   "cell_type": "code",
   "execution_count": 38,
   "id": "07a627c3",
   "metadata": {},
   "outputs": [
    {
     "ename": "ValueError",
     "evalue": "invalid literal for int() with base 10: '5.3'",
     "output_type": "error",
     "traceback": [
      "\u001b[0;31m---------------------------------------------------------------------------\u001b[0m",
      "\u001b[0;31mValueError\u001b[0m                                Traceback (most recent call last)",
      "Cell \u001b[0;32mIn[38], line 1\u001b[0m\n\u001b[0;32m----> 1\u001b[0m \u001b[38;5;28;43mint\u001b[39;49m\u001b[43m(\u001b[49m\u001b[43mb\u001b[49m\u001b[43m)\u001b[49m\n",
      "\u001b[0;31mValueError\u001b[0m: invalid literal for int() with base 10: '5.3'"
     ]
    }
   ],
   "source": [
    "int(b)"
   ]
  },
  {
   "cell_type": "code",
   "execution_count": 39,
   "id": "10575817",
   "metadata": {},
   "outputs": [
    {
     "data": {
      "text/plain": [
       "5"
      ]
     },
     "execution_count": 39,
     "metadata": {},
     "output_type": "execute_result"
    }
   ],
   "source": [
    "int(float(b))"
   ]
  },
  {
   "cell_type": "markdown",
   "id": "f8ca677a",
   "metadata": {},
   "source": [
    "# Input\n",
    "\n",
    "\n",
    "- Bazen kullanacağımız değeri kullanıcıdan almak isteyebiliriz. Bunu input metodu ile yapacağız.\n",
    "\n",
    "\n",
    "- input'un içinde yazacağımız bize kullanıcıya gösterilecek yazıyı verecek, kullanıcıdan girdi bekleyip enter'a basmasını bekleyecek, ve girdiyi string olarak döndürecek."
   ]
  },
  {
   "cell_type": "code",
   "execution_count": 41,
   "id": "9fde383e",
   "metadata": {},
   "outputs": [
    {
     "name": "stdout",
     "output_type": "stream",
     "text": [
      "birsayı giriniz10\n"
     ]
    }
   ],
   "source": [
    "x=input('birsayı giriniz')"
   ]
  },
  {
   "cell_type": "code",
   "execution_count": 42,
   "id": "8241ac7f",
   "metadata": {},
   "outputs": [
    {
     "ename": "TypeError",
     "evalue": "can only concatenate str (not \"int\") to str",
     "output_type": "error",
     "traceback": [
      "\u001b[0;31m---------------------------------------------------------------------------\u001b[0m",
      "\u001b[0;31mTypeError\u001b[0m                                 Traceback (most recent call last)",
      "Cell \u001b[0;32mIn[42], line 1\u001b[0m\n\u001b[0;32m----> 1\u001b[0m \u001b[43mx\u001b[49m\u001b[38;5;241;43m+\u001b[39;49m\u001b[38;5;241;43m10\u001b[39;49m\n",
      "\u001b[0;31mTypeError\u001b[0m: can only concatenate str (not \"int\") to str"
     ]
    }
   ],
   "source": [
    "x+10"
   ]
  },
  {
   "cell_type": "code",
   "execution_count": 43,
   "id": "bef46a50",
   "metadata": {},
   "outputs": [
    {
     "data": {
      "text/plain": [
       "str"
      ]
     },
     "execution_count": 43,
     "metadata": {},
     "output_type": "execute_result"
    }
   ],
   "source": [
    "type(x)"
   ]
  },
  {
   "cell_type": "code",
   "execution_count": 44,
   "id": "1e7abaa3",
   "metadata": {},
   "outputs": [
    {
     "data": {
      "text/plain": [
       "20"
      ]
     },
     "execution_count": 44,
     "metadata": {},
     "output_type": "execute_result"
    }
   ],
   "source": [
    "int(x)+10"
   ]
  },
  {
   "cell_type": "code",
   "execution_count": 46,
   "id": "0ae006e3",
   "metadata": {},
   "outputs": [
    {
     "name": "stdout",
     "output_type": "stream",
     "text": [
      "birsayı giriniz10\n"
     ]
    }
   ],
   "source": [
    "x=int(input('birsayı giriniz'))"
   ]
  },
  {
   "cell_type": "code",
   "execution_count": 47,
   "id": "408acc2f",
   "metadata": {},
   "outputs": [
    {
     "data": {
      "text/plain": [
       "20"
      ]
     },
     "execution_count": 47,
     "metadata": {},
     "output_type": "execute_result"
    }
   ],
   "source": [
    "x+10"
   ]
  },
  {
   "cell_type": "code",
   "execution_count": 48,
   "id": "6266a97f",
   "metadata": {},
   "outputs": [
    {
     "name": "stdout",
     "output_type": "stream",
     "text": [
      "bir mesaj girinselam\n"
     ]
    }
   ],
   "source": [
    "mesaj=input('bir mesaj girin')"
   ]
  },
  {
   "cell_type": "code",
   "execution_count": 49,
   "id": "6d55d7c3",
   "metadata": {},
   "outputs": [
    {
     "name": "stdout",
     "output_type": "stream",
     "text": [
      "isiminizi girinulaş\n"
     ]
    }
   ],
   "source": [
    "isim=input('isiminizi girin')"
   ]
  },
  {
   "cell_type": "code",
   "execution_count": 50,
   "id": "7b769e8d",
   "metadata": {},
   "outputs": [
    {
     "data": {
      "text/plain": [
       "'selam ulaş'"
      ]
     },
     "execution_count": 50,
     "metadata": {},
     "output_type": "execute_result"
    }
   ],
   "source": [
    "mesaj+' '+isim"
   ]
  },
  {
   "cell_type": "code",
   "execution_count": 51,
   "id": "78bd5842",
   "metadata": {},
   "outputs": [
    {
     "name": "stdout",
     "output_type": "stream",
     "text": [
      "ondalılk bir sayı giriniz:0.25\n"
     ]
    },
    {
     "ename": "ValueError",
     "evalue": "invalid literal for int() with base 10: '0.25'",
     "output_type": "error",
     "traceback": [
      "\u001b[0;31m---------------------------------------------------------------------------\u001b[0m",
      "\u001b[0;31mValueError\u001b[0m                                Traceback (most recent call last)",
      "Cell \u001b[0;32mIn[51], line 1\u001b[0m\n\u001b[0;32m----> 1\u001b[0m x\u001b[38;5;241m=\u001b[39m\u001b[38;5;28;43mint\u001b[39;49m\u001b[43m(\u001b[49m\u001b[38;5;28;43minput\u001b[39;49m\u001b[43m(\u001b[49m\u001b[38;5;124;43m'\u001b[39;49m\u001b[38;5;124;43mondalılk bir sayı giriniz:\u001b[39;49m\u001b[38;5;124;43m'\u001b[39;49m\u001b[43m)\u001b[49m\u001b[43m)\u001b[49m\n",
      "\u001b[0;31mValueError\u001b[0m: invalid literal for int() with base 10: '0.25'"
     ]
    }
   ],
   "source": [
    "x=int(input('ondalılk bir sayı giriniz:'))"
   ]
  },
  {
   "cell_type": "code",
   "execution_count": null,
   "id": "7138270f",
   "metadata": {},
   "outputs": [],
   "source": []
  }
 ],
 "metadata": {
  "kernelspec": {
   "display_name": "Python 3 (ipykernel)",
   "language": "python",
   "name": "python3"
  },
  "language_info": {
   "codemirror_mode": {
    "name": "ipython",
    "version": 3
   },
   "file_extension": ".py",
   "mimetype": "text/x-python",
   "name": "python",
   "nbconvert_exporter": "python",
   "pygments_lexer": "ipython3",
   "version": "3.9.6"
  }
 },
 "nbformat": 4,
 "nbformat_minor": 5
}
