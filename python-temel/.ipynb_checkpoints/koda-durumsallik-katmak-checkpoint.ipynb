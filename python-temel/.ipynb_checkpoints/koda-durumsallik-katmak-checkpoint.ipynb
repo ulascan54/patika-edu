{
 "cells": [
  {
   "cell_type": "markdown",
   "id": "af1e5a31",
   "metadata": {},
   "source": [
    "# Nümerik Veri Tiplerinde Karşılaştırma:\n",
    "\n",
    "\n",
    "- Bir programın farklı durumlar olduğunda başka davranışlar göstermesini isteyebiliriz. Bunun için belirli testler yapmam lazım ve bu testler sonucuca göre farklı davranışlar tasarlamam lazım.\n",
    "\n",
    "\n",
    "- Bu testler için verilerimizi birbirleri ile karşılaştırabilir olmamız lazım. Bunları Comparison Operator'lar (karşılaştırma operatörleri) ile yapacağız. Cevabın True veya False olmasına göre, farklı durumlarda farklı davranacak program tasarlayabiliriz. Bu karşılaştırmalar o programların temelini oluşturacak.\n",
    "\n",
    "\n",
    "- Nümerik veri tiplerinde karşılaştırma deyince aklımıza bir kaç şey gelebilir:\n",
    "\n",
    "\n",
    "- i==j eşitlik testi (equality test). i ve j birbirlerine eşitse bu ifadenin değeri boolean veri objesi True, eşit değilse False olacak. = değişken atama operatörü olarak tanımlandığı için eşitlik test ederken onu kullanırsak ='in sağındaki değere solundaki adı vermiş oluruz.\n",
    "\n",
    "\n",
    "- i!=j eşitsizlik testi (inequality test). i ve j birbirlerine eşit değilse bu ifadenin değeri boolean veri objesi True, eşitse False olacak.\n",
    "\n",
    "\n",
    "- i>j i, j'den büyükse bu ifadenin değeri boolean veri objesi True, eşit veya az ise False olacak.\n",
    "\n",
    "\n",
    "- i>=j i, j'den büyükse veya eşitse bu ifadenin değeri boolean veri objesi True, az ise False olacak.\n",
    "\n",
    "\n",
    "- i<j i, j'den küçükse bu ifadenin değeri boolean veri objesi True, eşit veya büyük ise False olacak.\n",
    "\n",
    "\n",
    "- i<=j i, j'den küçükse veya eşitse bu ifadenin değeri boolean veri objesi True, büyük ise False olacak.\n",
    "\n",
    "## == Operator\n"
   ]
  },
  {
   "cell_type": "code",
   "execution_count": 1,
   "id": "52b0938c",
   "metadata": {},
   "outputs": [
    {
     "data": {
      "text/plain": [
       "False"
      ]
     },
     "execution_count": 1,
     "metadata": {},
     "output_type": "execute_result"
    }
   ],
   "source": [
    "5 == 4"
   ]
  },
  {
   "cell_type": "code",
   "execution_count": 2,
   "id": "85db88a9",
   "metadata": {},
   "outputs": [
    {
     "data": {
      "text/plain": [
       "True"
      ]
     },
     "execution_count": 2,
     "metadata": {},
     "output_type": "execute_result"
    }
   ],
   "source": [
    "5 == 5"
   ]
  },
  {
   "cell_type": "code",
   "execution_count": 3,
   "id": "d1666d53",
   "metadata": {},
   "outputs": [],
   "source": [
    "i=10"
   ]
  },
  {
   "cell_type": "code",
   "execution_count": 7,
   "id": "ede90dbf",
   "metadata": {},
   "outputs": [],
   "source": [
    "j=20"
   ]
  },
  {
   "cell_type": "code",
   "execution_count": 8,
   "id": "fd6177cd",
   "metadata": {},
   "outputs": [
    {
     "data": {
      "text/plain": [
       "False"
      ]
     },
     "execution_count": 8,
     "metadata": {},
     "output_type": "execute_result"
    }
   ],
   "source": [
    "i ==j"
   ]
  },
  {
   "cell_type": "code",
   "execution_count": 9,
   "id": "2928c81f",
   "metadata": {},
   "outputs": [],
   "source": [
    "j=10"
   ]
  },
  {
   "cell_type": "code",
   "execution_count": 10,
   "id": "b2a977dc",
   "metadata": {},
   "outputs": [
    {
     "data": {
      "text/plain": [
       "True"
      ]
     },
     "execution_count": 10,
     "metadata": {},
     "output_type": "execute_result"
    }
   ],
   "source": [
    "i==j"
   ]
  },
  {
   "cell_type": "markdown",
   "id": "7c1f76c3",
   "metadata": {},
   "source": [
    "Float veri tipleri için eşitlik karşılaştırması yaparken == kullanılması çok mantıklı değil, bunun nedenini ileriki derslerde göreceğiz.\n"
   ]
  },
  {
   "cell_type": "code",
   "execution_count": 11,
   "id": "2d8d5b25",
   "metadata": {},
   "outputs": [
    {
     "data": {
      "text/plain": [
       "False"
      ]
     },
     "execution_count": 11,
     "metadata": {},
     "output_type": "execute_result"
    }
   ],
   "source": [
    "5.3 == 5.4"
   ]
  },
  {
   "cell_type": "code",
   "execution_count": 12,
   "id": "e6b9ec6b",
   "metadata": {},
   "outputs": [
    {
     "data": {
      "text/plain": [
       "True"
      ]
     },
     "execution_count": 12,
     "metadata": {},
     "output_type": "execute_result"
    }
   ],
   "source": [
    "5.4 == 5.4"
   ]
  },
  {
   "cell_type": "code",
   "execution_count": 13,
   "id": "66b19588",
   "metadata": {},
   "outputs": [
    {
     "data": {
      "text/plain": [
       "False"
      ]
     },
     "execution_count": 13,
     "metadata": {},
     "output_type": "execute_result"
    }
   ],
   "source": [
    "x = (0.3 * 3) + 0.1\n",
    "y = 1.0\n",
    "x == y"
   ]
  },
  {
   "cell_type": "code",
   "execution_count": 14,
   "id": "622d05e4",
   "metadata": {},
   "outputs": [
    {
     "data": {
      "text/plain": [
       "0.9999999999999999"
      ]
     },
     "execution_count": 14,
     "metadata": {},
     "output_type": "execute_result"
    }
   ],
   "source": [
    "x"
   ]
  },
  {
   "cell_type": "code",
   "execution_count": 15,
   "id": "d5473b7c",
   "metadata": {},
   "outputs": [
    {
     "data": {
      "text/plain": [
       "1.0"
      ]
     },
     "execution_count": 15,
     "metadata": {},
     "output_type": "execute_result"
    }
   ],
   "source": [
    "y"
   ]
  },
  {
   "cell_type": "markdown",
   "id": "863201c5",
   "metadata": {},
   "source": [
    "## != operator"
   ]
  },
  {
   "cell_type": "code",
   "execution_count": 16,
   "id": "9f11ba67",
   "metadata": {},
   "outputs": [
    {
     "data": {
      "text/plain": [
       "True"
      ]
     },
     "execution_count": 16,
     "metadata": {},
     "output_type": "execute_result"
    }
   ],
   "source": [
    "5!=4"
   ]
  },
  {
   "cell_type": "code",
   "execution_count": 17,
   "id": "29aa9719",
   "metadata": {},
   "outputs": [
    {
     "data": {
      "text/plain": [
       "False"
      ]
     },
     "execution_count": 17,
     "metadata": {},
     "output_type": "execute_result"
    }
   ],
   "source": [
    "5!=5"
   ]
  },
  {
   "cell_type": "code",
   "execution_count": 18,
   "id": "1f799444",
   "metadata": {},
   "outputs": [],
   "source": [
    "i=10\n",
    "j=20"
   ]
  },
  {
   "cell_type": "code",
   "execution_count": 19,
   "id": "375a7c76",
   "metadata": {},
   "outputs": [
    {
     "data": {
      "text/plain": [
       "True"
      ]
     },
     "execution_count": 19,
     "metadata": {},
     "output_type": "execute_result"
    }
   ],
   "source": [
    "i!=j"
   ]
  },
  {
   "cell_type": "code",
   "execution_count": 20,
   "id": "e513587c",
   "metadata": {},
   "outputs": [],
   "source": [
    "j=10"
   ]
  },
  {
   "cell_type": "code",
   "execution_count": 21,
   "id": "a1f3dcaf",
   "metadata": {},
   "outputs": [
    {
     "data": {
      "text/plain": [
       "False"
      ]
     },
     "execution_count": 21,
     "metadata": {},
     "output_type": "execute_result"
    }
   ],
   "source": [
    "i!=j"
   ]
  },
  {
   "cell_type": "markdown",
   "id": "ca138dec",
   "metadata": {},
   "source": [
    "## >operator"
   ]
  },
  {
   "cell_type": "code",
   "execution_count": 22,
   "id": "0908cffe",
   "metadata": {},
   "outputs": [
    {
     "data": {
      "text/plain": [
       "True"
      ]
     },
     "execution_count": 22,
     "metadata": {},
     "output_type": "execute_result"
    }
   ],
   "source": [
    "5>4"
   ]
  },
  {
   "cell_type": "code",
   "execution_count": 23,
   "id": "8b514c20",
   "metadata": {},
   "outputs": [
    {
     "data": {
      "text/plain": [
       "False"
      ]
     },
     "execution_count": 23,
     "metadata": {},
     "output_type": "execute_result"
    }
   ],
   "source": [
    "5>5"
   ]
  },
  {
   "cell_type": "markdown",
   "id": "75c56879",
   "metadata": {},
   "source": [
    "## < operator"
   ]
  },
  {
   "cell_type": "code",
   "execution_count": 25,
   "id": "f8b6e8e6",
   "metadata": {},
   "outputs": [
    {
     "data": {
      "text/plain": [
       "False"
      ]
     },
     "execution_count": 25,
     "metadata": {},
     "output_type": "execute_result"
    }
   ],
   "source": [
    "5<4"
   ]
  },
  {
   "cell_type": "code",
   "execution_count": 26,
   "id": "ecb4ee60",
   "metadata": {},
   "outputs": [
    {
     "data": {
      "text/plain": [
       "True"
      ]
     },
     "execution_count": 26,
     "metadata": {},
     "output_type": "execute_result"
    }
   ],
   "source": [
    "4<5"
   ]
  },
  {
   "cell_type": "code",
   "execution_count": 27,
   "id": "8045b289",
   "metadata": {},
   "outputs": [
    {
     "data": {
      "text/plain": [
       "False"
      ]
     },
     "execution_count": 27,
     "metadata": {},
     "output_type": "execute_result"
    }
   ],
   "source": [
    "4<4"
   ]
  },
  {
   "cell_type": "markdown",
   "id": "f17d2819",
   "metadata": {},
   "source": [
    "# <=,>= operator"
   ]
  },
  {
   "cell_type": "code",
   "execution_count": 28,
   "id": "ed5b0e5f",
   "metadata": {},
   "outputs": [
    {
     "data": {
      "text/plain": [
       "True"
      ]
     },
     "execution_count": 28,
     "metadata": {},
     "output_type": "execute_result"
    }
   ],
   "source": [
    "5>=5"
   ]
  },
  {
   "cell_type": "code",
   "execution_count": 29,
   "id": "8c72b923",
   "metadata": {},
   "outputs": [
    {
     "data": {
      "text/plain": [
       "True"
      ]
     },
     "execution_count": 29,
     "metadata": {},
     "output_type": "execute_result"
    }
   ],
   "source": [
    "4<=4"
   ]
  },
  {
   "cell_type": "code",
   "execution_count": 30,
   "id": "ab81ab50",
   "metadata": {},
   "outputs": [
    {
     "data": {
      "text/plain": [
       "True"
      ]
     },
     "execution_count": 30,
     "metadata": {},
     "output_type": "execute_result"
    }
   ],
   "source": [
    "4<=5"
   ]
  },
  {
   "cell_type": "code",
   "execution_count": 31,
   "id": "6ee18ac4",
   "metadata": {},
   "outputs": [
    {
     "data": {
      "text/plain": [
       "False"
      ]
     },
     "execution_count": 31,
     "metadata": {},
     "output_type": "execute_result"
    }
   ],
   "source": [
    "5<=4"
   ]
  },
  {
   "cell_type": "code",
   "execution_count": 32,
   "id": "47102f09",
   "metadata": {},
   "outputs": [
    {
     "data": {
      "text/plain": [
       "True"
      ]
     },
     "execution_count": 32,
     "metadata": {},
     "output_type": "execute_result"
    }
   ],
   "source": [
    "5>=4"
   ]
  },
  {
   "cell_type": "code",
   "execution_count": 33,
   "id": "a6b83231",
   "metadata": {},
   "outputs": [
    {
     "data": {
      "text/plain": [
       "False"
      ]
     },
     "execution_count": 33,
     "metadata": {},
     "output_type": "execute_result"
    }
   ],
   "source": [
    "4>=5"
   ]
  },
  {
   "cell_type": "markdown",
   "id": "eb485ec8",
   "metadata": {},
   "source": [
    "# Stringlerde Karşılaştırma:\n"
   ]
  },
  {
   "cell_type": "code",
   "execution_count": 34,
   "id": "e29fca0e",
   "metadata": {},
   "outputs": [
    {
     "data": {
      "text/plain": [
       "False"
      ]
     },
     "execution_count": 34,
     "metadata": {},
     "output_type": "execute_result"
    }
   ],
   "source": [
    "\"Elma\" == \"elma\""
   ]
  },
  {
   "cell_type": "code",
   "execution_count": 35,
   "id": "09dc7d4e",
   "metadata": {},
   "outputs": [
    {
     "data": {
      "text/plain": [
       "True"
      ]
     },
     "execution_count": 35,
     "metadata": {},
     "output_type": "execute_result"
    }
   ],
   "source": [
    "\"Elma\" != \"elma\"\n"
   ]
  },
  {
   "cell_type": "code",
   "execution_count": 36,
   "id": "1888ab29",
   "metadata": {},
   "outputs": [],
   "source": [
    "a = \"elma\"\n"
   ]
  },
  {
   "cell_type": "code",
   "execution_count": 37,
   "id": "a7d49865",
   "metadata": {},
   "outputs": [],
   "source": [
    "b = \"elma\"\n"
   ]
  },
  {
   "cell_type": "code",
   "execution_count": 38,
   "id": "dc501dcf",
   "metadata": {},
   "outputs": [
    {
     "data": {
      "text/plain": [
       "True"
      ]
     },
     "execution_count": 38,
     "metadata": {},
     "output_type": "execute_result"
    }
   ],
   "source": [
    "a == b\n"
   ]
  },
  {
   "cell_type": "code",
   "execution_count": 39,
   "id": "24642db0",
   "metadata": {},
   "outputs": [
    {
     "data": {
      "text/plain": [
       "True"
      ]
     },
     "execution_count": 39,
     "metadata": {},
     "output_type": "execute_result"
    }
   ],
   "source": [
    "\"a\" < \"b\"\n"
   ]
  },
  {
   "cell_type": "code",
   "execution_count": 40,
   "id": "4f11bd3c",
   "metadata": {},
   "outputs": [
    {
     "data": {
      "text/plain": [
       "True"
      ]
     },
     "execution_count": 40,
     "metadata": {},
     "output_type": "execute_result"
    }
   ],
   "source": [
    "\"ab\" < \"b\"\n"
   ]
  },
  {
   "cell_type": "code",
   "execution_count": 41,
   "id": "99b54889",
   "metadata": {},
   "outputs": [
    {
     "data": {
      "text/plain": [
       "True"
      ]
     },
     "execution_count": 41,
     "metadata": {},
     "output_type": "execute_result"
    }
   ],
   "source": [
    "\"ab\" < \"badsfadsf\"\n"
   ]
  },
  {
   "cell_type": "code",
   "execution_count": 42,
   "id": "16e37858",
   "metadata": {},
   "outputs": [
    {
     "data": {
      "text/plain": [
       "True"
      ]
     },
     "execution_count": 42,
     "metadata": {},
     "output_type": "execute_result"
    }
   ],
   "source": [
    "\"ab\" < \"ac\"\n"
   ]
  },
  {
   "cell_type": "code",
   "execution_count": 43,
   "id": "3f16eba9",
   "metadata": {},
   "outputs": [
    {
     "data": {
      "text/plain": [
       "False"
      ]
     },
     "execution_count": 43,
     "metadata": {},
     "output_type": "execute_result"
    }
   ],
   "source": [
    "\"abc\" < \"abb\"\n"
   ]
  },
  {
   "cell_type": "markdown",
   "id": "dd934da6",
   "metadata": {},
   "source": [
    "# Mantıksal Operatörler (Logical Operators)\n",
    "\n",
    "\n",
    "- Verilerimizle nasıl karşılaştırma yapabileceğimizi gördük. Bunların cevaplarını birleştirmek isteyebiliriz. İki ifadenin sonucu da doğru olunca bir şey yapmak veya en az biri doğruyken bir şey yapmak isteyebilirim.\n",
    "\n",
    "\n",
    "- Bunu sağlayabilmek için boolean veri tipleri üzerine uygulanabilecek mantıksal operatörlere bakacağız.\n",
    "\n",
    "\n",
    "- Göreceğimiz mantıksal operatörlerinin uygulandığı veri tipleri boolean olmalı.\n",
    "\n",
    "## not"
   ]
  },
  {
   "cell_type": "code",
   "execution_count": 45,
   "id": "8e4dc2e3",
   "metadata": {},
   "outputs": [
    {
     "data": {
      "text/plain": [
       "False"
      ]
     },
     "execution_count": 45,
     "metadata": {},
     "output_type": "execute_result"
    }
   ],
   "source": [
    "not True"
   ]
  },
  {
   "cell_type": "code",
   "execution_count": 46,
   "id": "f442b1f2",
   "metadata": {},
   "outputs": [
    {
     "data": {
      "text/plain": [
       "True"
      ]
     },
     "execution_count": 46,
     "metadata": {},
     "output_type": "execute_result"
    }
   ],
   "source": [
    "not False"
   ]
  },
  {
   "cell_type": "code",
   "execution_count": 47,
   "id": "c0a4a509",
   "metadata": {},
   "outputs": [
    {
     "data": {
      "text/plain": [
       "False"
      ]
     },
     "execution_count": 47,
     "metadata": {},
     "output_type": "execute_result"
    }
   ],
   "source": [
    "not 5<6"
   ]
  },
  {
   "cell_type": "code",
   "execution_count": 48,
   "id": "0a356070",
   "metadata": {},
   "outputs": [
    {
     "data": {
      "text/plain": [
       "False"
      ]
     },
     "execution_count": 48,
     "metadata": {},
     "output_type": "execute_result"
    }
   ],
   "source": [
    "not 5==5"
   ]
  },
  {
   "cell_type": "code",
   "execution_count": 51,
   "id": "9d539bbf",
   "metadata": {},
   "outputs": [],
   "source": [
    "a=4\n",
    "b=10"
   ]
  },
  {
   "cell_type": "code",
   "execution_count": 52,
   "id": "a4a31b2f",
   "metadata": {},
   "outputs": [
    {
     "data": {
      "text/plain": [
       "False"
      ]
     },
     "execution_count": 52,
     "metadata": {},
     "output_type": "execute_result"
    }
   ],
   "source": [
    "not a<b"
   ]
  },
  {
   "cell_type": "code",
   "execution_count": 53,
   "id": "ab4b80a9",
   "metadata": {},
   "outputs": [
    {
     "data": {
      "text/plain": [
       "True"
      ]
     },
     "execution_count": 53,
     "metadata": {},
     "output_type": "execute_result"
    }
   ],
   "source": [
    "not(a>b)"
   ]
  },
  {
   "cell_type": "markdown",
   "id": "252d1a23",
   "metadata": {},
   "source": [
    "## and"
   ]
  },
  {
   "cell_type": "code",
   "execution_count": 54,
   "id": "3a061012",
   "metadata": {},
   "outputs": [
    {
     "data": {
      "text/plain": [
       "True"
      ]
     },
     "execution_count": 54,
     "metadata": {},
     "output_type": "execute_result"
    }
   ],
   "source": [
    "True and True\n"
   ]
  },
  {
   "cell_type": "code",
   "execution_count": 55,
   "id": "868e7a04",
   "metadata": {},
   "outputs": [
    {
     "data": {
      "text/plain": [
       "False"
      ]
     },
     "execution_count": 55,
     "metadata": {},
     "output_type": "execute_result"
    }
   ],
   "source": [
    "True and False\n"
   ]
  },
  {
   "cell_type": "code",
   "execution_count": 56,
   "id": "5b018a59",
   "metadata": {},
   "outputs": [
    {
     "data": {
      "text/plain": [
       "False"
      ]
     },
     "execution_count": 56,
     "metadata": {},
     "output_type": "execute_result"
    }
   ],
   "source": [
    "False and False\n"
   ]
  },
  {
   "cell_type": "code",
   "execution_count": 57,
   "id": "dd70f928",
   "metadata": {},
   "outputs": [],
   "source": [
    "a=4\n",
    "b=1\n",
    "c=10"
   ]
  },
  {
   "cell_type": "code",
   "execution_count": 58,
   "id": "a139630d",
   "metadata": {},
   "outputs": [
    {
     "data": {
      "text/plain": [
       "True"
      ]
     },
     "execution_count": 58,
     "metadata": {},
     "output_type": "execute_result"
    }
   ],
   "source": [
    "(a > b) and (b < c)\n"
   ]
  },
  {
   "cell_type": "code",
   "execution_count": 59,
   "id": "178d0fdc",
   "metadata": {},
   "outputs": [
    {
     "data": {
      "text/plain": [
       "False"
      ]
     },
     "execution_count": 59,
     "metadata": {},
     "output_type": "execute_result"
    }
   ],
   "source": [
    "(a > b) and (b > c)\n"
   ]
  },
  {
   "cell_type": "markdown",
   "id": "f21b5055",
   "metadata": {},
   "source": [
    "## or"
   ]
  },
  {
   "cell_type": "code",
   "execution_count": 60,
   "id": "8a5053b6",
   "metadata": {},
   "outputs": [
    {
     "data": {
      "text/plain": [
       "True"
      ]
     },
     "execution_count": 60,
     "metadata": {},
     "output_type": "execute_result"
    }
   ],
   "source": [
    "True or True\n"
   ]
  },
  {
   "cell_type": "code",
   "execution_count": 61,
   "id": "acaa6c12",
   "metadata": {},
   "outputs": [
    {
     "data": {
      "text/plain": [
       "True"
      ]
     },
     "execution_count": 61,
     "metadata": {},
     "output_type": "execute_result"
    }
   ],
   "source": [
    "True or False\n"
   ]
  },
  {
   "cell_type": "code",
   "execution_count": 62,
   "id": "17655dc6",
   "metadata": {},
   "outputs": [
    {
     "data": {
      "text/plain": [
       "False"
      ]
     },
     "execution_count": 62,
     "metadata": {},
     "output_type": "execute_result"
    }
   ],
   "source": [
    "False or False\n"
   ]
  },
  {
   "cell_type": "code",
   "execution_count": 63,
   "id": "2f929ce4",
   "metadata": {},
   "outputs": [],
   "source": [
    "a = 4\n",
    "b = 1\n",
    "c = 10"
   ]
  },
  {
   "cell_type": "code",
   "execution_count": 64,
   "id": "12a23570",
   "metadata": {},
   "outputs": [
    {
     "data": {
      "text/plain": [
       "True"
      ]
     },
     "execution_count": 64,
     "metadata": {},
     "output_type": "execute_result"
    }
   ],
   "source": [
    "(a > b) or (b < c)\n"
   ]
  },
  {
   "cell_type": "code",
   "execution_count": 65,
   "id": "813a04d8",
   "metadata": {},
   "outputs": [
    {
     "data": {
      "text/plain": [
       "True"
      ]
     },
     "execution_count": 65,
     "metadata": {},
     "output_type": "execute_result"
    }
   ],
   "source": [
    "(a > b) or (b > c)\n"
   ]
  },
  {
   "cell_type": "code",
   "execution_count": 66,
   "id": "8b90035c",
   "metadata": {},
   "outputs": [
    {
     "data": {
      "text/plain": [
       "False"
      ]
     },
     "execution_count": 66,
     "metadata": {},
     "output_type": "execute_result"
    }
   ],
   "source": [
    "(a < b) or (b > c)\n"
   ]
  },
  {
   "cell_type": "markdown",
   "id": "4ea32eb2",
   "metadata": {},
   "source": [
    "# Short circuit\n"
   ]
  },
  {
   "cell_type": "code",
   "execution_count": 67,
   "id": "abd2f1a8",
   "metadata": {},
   "outputs": [
    {
     "data": {
      "text/plain": [
       "False"
      ]
     },
     "execution_count": 67,
     "metadata": {},
     "output_type": "execute_result"
    }
   ],
   "source": [
    "(5 < 3) and print(\"hey\")\n"
   ]
  },
  {
   "cell_type": "code",
   "execution_count": 68,
   "id": "1a078e4a",
   "metadata": {},
   "outputs": [
    {
     "data": {
      "text/plain": [
       "True"
      ]
     },
     "execution_count": 68,
     "metadata": {},
     "output_type": "execute_result"
    }
   ],
   "source": [
    "(5 > 3) or print(\"hey\")\n"
   ]
  },
  {
   "cell_type": "code",
   "execution_count": 69,
   "id": "d61edeae",
   "metadata": {},
   "outputs": [
    {
     "name": "stdout",
     "output_type": "stream",
     "text": [
      "hey\n"
     ]
    }
   ],
   "source": [
    "(5 < 3) or print(\"hey\")\n"
   ]
  },
  {
   "cell_type": "code",
   "execution_count": 70,
   "id": "18a28525",
   "metadata": {},
   "outputs": [
    {
     "name": "stdout",
     "output_type": "stream",
     "text": [
      "hey\n"
     ]
    }
   ],
   "source": [
    "(5 > 3) and print(\"hey\")\n"
   ]
  },
  {
   "cell_type": "markdown",
   "id": "c7f3dd79",
   "metadata": {},
   "source": [
    "## &\n",
    "\n",
    "\n",
    "- &'da and'in yaptığını yapar ama short-circuit davranışı göstermez."
   ]
  },
  {
   "cell_type": "code",
   "execution_count": 71,
   "id": "b763c144",
   "metadata": {},
   "outputs": [
    {
     "data": {
      "text/plain": [
       "True"
      ]
     },
     "execution_count": 71,
     "metadata": {},
     "output_type": "execute_result"
    }
   ],
   "source": [
    "(2 == 2) & (3 == 3)\n"
   ]
  },
  {
   "cell_type": "code",
   "execution_count": 72,
   "id": "658e28e9",
   "metadata": {},
   "outputs": [
    {
     "name": "stdout",
     "output_type": "stream",
     "text": [
      "hey\n"
     ]
    },
    {
     "ename": "TypeError",
     "evalue": "unsupported operand type(s) for &: 'bool' and 'NoneType'",
     "output_type": "error",
     "traceback": [
      "\u001b[0;31m---------------------------------------------------------------------------\u001b[0m",
      "\u001b[0;31mTypeError\u001b[0m                                 Traceback (most recent call last)",
      "Cell \u001b[0;32mIn[72], line 1\u001b[0m\n\u001b[0;32m----> 1\u001b[0m \u001b[43m(\u001b[49m\u001b[38;5;241;43m5\u001b[39;49m\u001b[43m \u001b[49m\u001b[38;5;241;43m<\u001b[39;49m\u001b[43m \u001b[49m\u001b[38;5;241;43m3\u001b[39;49m\u001b[43m)\u001b[49m\u001b[43m \u001b[49m\u001b[38;5;241;43m&\u001b[39;49m\u001b[43m \u001b[49m\u001b[38;5;28;43mprint\u001b[39;49m\u001b[43m(\u001b[49m\u001b[38;5;124;43m\"\u001b[39;49m\u001b[38;5;124;43mhey\u001b[39;49m\u001b[38;5;124;43m\"\u001b[39;49m\u001b[43m)\u001b[49m\n",
      "\u001b[0;31mTypeError\u001b[0m: unsupported operand type(s) for &: 'bool' and 'NoneType'"
     ]
    }
   ],
   "source": [
    "(5 < 3) & print(\"hey\")\n"
   ]
  },
  {
   "cell_type": "markdown",
   "id": "8afbc8fc",
   "metadata": {},
   "source": [
    "- 5 < 3 and print(\"hey\") karşılaştırması yaptığımızda hata almıyorken 5 < 3 & print(\"hey\")'de hata alıyoruz. and boolean ile NoneType karşılaştırırken hata vermezken, & hata veriyor.\n",
    "\n",
    "## |\n",
    "- |'da or'un yaptığını yapar ama short-circuit davranışı göstermez.\n"
   ]
  },
  {
   "cell_type": "code",
   "execution_count": 73,
   "id": "9c798e1e",
   "metadata": {},
   "outputs": [
    {
     "data": {
      "text/plain": [
       "True"
      ]
     },
     "execution_count": 73,
     "metadata": {},
     "output_type": "execute_result"
    }
   ],
   "source": [
    "(2 == 2) | (3 < 3)\n"
   ]
  },
  {
   "cell_type": "code",
   "execution_count": 74,
   "id": "0e76e1a1",
   "metadata": {},
   "outputs": [
    {
     "data": {
      "text/plain": [
       "True"
      ]
     },
     "execution_count": 74,
     "metadata": {},
     "output_type": "execute_result"
    }
   ],
   "source": [
    "(5 > 3) or print(\"hey\")\n"
   ]
  },
  {
   "cell_type": "code",
   "execution_count": 75,
   "id": "7eeb8271",
   "metadata": {},
   "outputs": [
    {
     "name": "stdout",
     "output_type": "stream",
     "text": [
      "hey\n"
     ]
    },
    {
     "ename": "TypeError",
     "evalue": "unsupported operand type(s) for |: 'bool' and 'NoneType'",
     "output_type": "error",
     "traceback": [
      "\u001b[0;31m---------------------------------------------------------------------------\u001b[0m",
      "\u001b[0;31mTypeError\u001b[0m                                 Traceback (most recent call last)",
      "Cell \u001b[0;32mIn[75], line 1\u001b[0m\n\u001b[0;32m----> 1\u001b[0m \u001b[43m(\u001b[49m\u001b[38;5;241;43m5\u001b[39;49m\u001b[43m \u001b[49m\u001b[38;5;241;43m>\u001b[39;49m\u001b[43m \u001b[49m\u001b[38;5;241;43m3\u001b[39;49m\u001b[43m)\u001b[49m\u001b[43m \u001b[49m\u001b[38;5;241;43m|\u001b[39;49m\u001b[43m \u001b[49m\u001b[38;5;28;43mprint\u001b[39;49m\u001b[43m(\u001b[49m\u001b[38;5;124;43m\"\u001b[39;49m\u001b[38;5;124;43mhey\u001b[39;49m\u001b[38;5;124;43m\"\u001b[39;49m\u001b[43m)\u001b[49m\n",
      "\u001b[0;31mTypeError\u001b[0m: unsupported operand type(s) for |: 'bool' and 'NoneType'"
     ]
    }
   ],
   "source": [
    "(5 > 3) | print(\"hey\")\n"
   ]
  },
  {
   "cell_type": "markdown",
   "id": "e423b3c9",
   "metadata": {},
   "source": [
    "- 5 < 3 or print(\"hey\") karşılaştırması yaptığımızda hata almıyorken 5 < 3 | print(\"hey\")'de hata alıyoruz. or boolean ile NoneType karşılaştırırken hata vermezken, | hata veriyor.\n"
   ]
  },
  {
   "cell_type": "code",
   "execution_count": null,
   "id": "162b6d79",
   "metadata": {},
   "outputs": [],
   "source": []
  }
 ],
 "metadata": {
  "kernelspec": {
   "display_name": "Python 3 (ipykernel)",
   "language": "python",
   "name": "python3"
  },
  "language_info": {
   "codemirror_mode": {
    "name": "ipython",
    "version": 3
   },
   "file_extension": ".py",
   "mimetype": "text/x-python",
   "name": "python",
   "nbconvert_exporter": "python",
   "pygments_lexer": "ipython3",
   "version": "3.9.6"
  }
 },
 "nbformat": 4,
 "nbformat_minor": 5
}
