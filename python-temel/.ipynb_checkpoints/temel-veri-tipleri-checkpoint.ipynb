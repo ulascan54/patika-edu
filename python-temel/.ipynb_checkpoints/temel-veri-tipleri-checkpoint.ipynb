{
 "cells": [
  {
   "cell_type": "markdown",
   "id": "7785eb59",
   "metadata": {},
   "source": [
    "# Temel Veri Tipleri"
   ]
  },
  {
   "cell_type": "markdown",
   "id": "f810b307",
   "metadata": {},
   "source": [
    "- Bilgisayarların belirli inputlar ile bir işlem yapabilmeleri için öncelikle bu inputları bilgisayarın anlayacağı şekilde ifade edip tutmalıyız. Bu amaçla ilk olarak Python dilindeki temel veri tiplerine bakacağız."
   ]
  },
  {
   "cell_type": "markdown",
   "id": "56bba08f",
   "metadata": {},
   "source": [
    "- Programlar veri objelerini (data object) manipüle ederek istediklerimizi yaparlar\n",
    "- Programa istediğimizi yaptırmamız için girdilerimizi ve programın içerisinde kullanılacak verileri ifade edebilmemiz lazım\n",
    "\n",
    "- veri objeleri 2 ye ayılır scaler, none scaler\n",
    "\n",
    "## Integers(tam sayılar)"
   ]
  },
  {
   "cell_type": "markdown",
   "id": "7f250e29",
   "metadata": {},
   "source": [
    "küsüratsız 1,2,3,4 gibi sayılardır"
   ]
  },
  {
   "cell_type": "markdown",
   "id": "7ee95b8b",
   "metadata": {},
   "source": [
    "- (-) değer alabilirler\n",
    "- aritmetik işlemler yapılabilir"
   ]
  },
  {
   "cell_type": "code",
   "execution_count": 5,
   "id": "b557ebbe",
   "metadata": {},
   "outputs": [
    {
     "data": {
      "text/plain": [
       "4"
      ]
     },
     "execution_count": 5,
     "metadata": {},
     "output_type": "execute_result"
    }
   ],
   "source": [
    "2+2"
   ]
  },
  {
   "cell_type": "code",
   "execution_count": 6,
   "id": "f257ecee",
   "metadata": {},
   "outputs": [
    {
     "data": {
      "text/plain": [
       "6"
      ]
     },
     "execution_count": 6,
     "metadata": {},
     "output_type": "execute_result"
    }
   ],
   "source": [
    "8-2"
   ]
  },
  {
   "cell_type": "code",
   "execution_count": 7,
   "id": "bb7dca5c",
   "metadata": {},
   "outputs": [
    {
     "data": {
      "text/plain": [
       "4"
      ]
     },
     "execution_count": 7,
     "metadata": {},
     "output_type": "execute_result"
    }
   ],
   "source": [
    "2*2"
   ]
  },
  {
   "cell_type": "markdown",
   "id": "f59ffacb",
   "metadata": {},
   "source": [
    "## Floats (kesirli sayılar)\n",
    "\n",
    "- Float'lar küsuratı olan, virgülden sonra (kodlarda . olarak göreceğiz, o yüzden sayılarda nokta gördüğünüzde virgülden sonrası diye düşünebilirsiniz)değerler barındıran veri tipleridir. 1.3,2.4,3.3,4.6 gibi sayılardır. 3.0 gibi sayıların virgülden sonrası 0 olabilir, ama virgül mantığını ortaya koyduğumuz için bu sayılar yine de float sayılacaktır.\n",
    "\n",
    "- Nasıl kesirli aritmetik işlemler yapıyorsak float'larla da yapabiliriz\n"
   ]
  },
  {
   "cell_type": "code",
   "execution_count": 8,
   "id": "5fe8f368",
   "metadata": {},
   "outputs": [
    {
     "data": {
      "text/plain": [
       "5.699999999999999"
      ]
     },
     "execution_count": 8,
     "metadata": {},
     "output_type": "execute_result"
    }
   ],
   "source": [
    "2.3+3.4"
   ]
  },
  {
   "cell_type": "code",
   "execution_count": 9,
   "id": "6a9d941d",
   "metadata": {},
   "outputs": [
    {
     "data": {
      "text/plain": [
       "6.2"
      ]
     },
     "execution_count": 9,
     "metadata": {},
     "output_type": "execute_result"
    }
   ],
   "source": [
    "8.4-2.2"
   ]
  },
  {
   "cell_type": "code",
   "execution_count": 10,
   "id": "d4b36333",
   "metadata": {},
   "outputs": [
    {
     "data": {
      "text/plain": [
       "4.4"
      ]
     },
     "execution_count": 10,
     "metadata": {},
     "output_type": "execute_result"
    }
   ],
   "source": [
    "2.2*2"
   ]
  },
  {
   "cell_type": "markdown",
   "id": "3192a022",
   "metadata": {},
   "source": [
    "## Boolean\n",
    "\n",
    "- Daha ileriki konularda if-else mantığını gördüğümüzde daha iyi oturacak bir veri tipi. Özetle bir şeyin doğru (True) veya yanlış (False) olduğunu belirten bir yapı"
   ]
  },
  {
   "cell_type": "code",
   "execution_count": 12,
   "id": "f8a48dd2",
   "metadata": {},
   "outputs": [
    {
     "data": {
      "text/plain": [
       "False"
      ]
     },
     "execution_count": 12,
     "metadata": {},
     "output_type": "execute_result"
    }
   ],
   "source": [
    "True\n",
    "False\n",
    "2>3"
   ]
  },
  {
   "cell_type": "code",
   "execution_count": 13,
   "id": "a1a0f041",
   "metadata": {},
   "outputs": [
    {
     "data": {
      "text/plain": [
       "True"
      ]
     },
     "execution_count": 13,
     "metadata": {},
     "output_type": "execute_result"
    }
   ],
   "source": [
    "2<3"
   ]
  },
  {
   "cell_type": "markdown",
   "id": "fb22bf99",
   "metadata": {},
   "source": [
    "## Type()\n",
    "- Objelerin tiplerine type() ile bakabiliriz"
   ]
  },
  {
   "cell_type": "code",
   "execution_count": 17,
   "id": "451bba60",
   "metadata": {},
   "outputs": [
    {
     "data": {
      "text/plain": [
       "int"
      ]
     },
     "execution_count": 17,
     "metadata": {},
     "output_type": "execute_result"
    }
   ],
   "source": [
    "type(2)"
   ]
  },
  {
   "cell_type": "code",
   "execution_count": 16,
   "id": "10db0d39",
   "metadata": {},
   "outputs": [
    {
     "data": {
      "text/plain": [
       "float"
      ]
     },
     "execution_count": 16,
     "metadata": {},
     "output_type": "execute_result"
    }
   ],
   "source": [
    "type(2.3)"
   ]
  },
  {
   "cell_type": "code",
   "execution_count": 18,
   "id": "bd26f7e0",
   "metadata": {},
   "outputs": [
    {
     "data": {
      "text/plain": [
       "bool"
      ]
     },
     "execution_count": 18,
     "metadata": {},
     "output_type": "execute_result"
    }
   ],
   "source": [
    "type(True)"
   ]
  },
  {
   "cell_type": "markdown",
   "id": "6eb64dc9",
   "metadata": {},
   "source": [
    "## Type Casting (Tip Dönüştürmesi)\n",
    "- Data objelerinin tipini değiştirebiliyoruz, buna casting deniyor"
   ]
  },
  {
   "cell_type": "code",
   "execution_count": 19,
   "id": "9ac8d1df",
   "metadata": {},
   "outputs": [
    {
     "data": {
      "text/plain": [
       "2"
      ]
     },
     "execution_count": 19,
     "metadata": {},
     "output_type": "execute_result"
    }
   ],
   "source": [
    "int(2.4)"
   ]
  },
  {
   "cell_type": "code",
   "execution_count": 20,
   "id": "75875381",
   "metadata": {},
   "outputs": [
    {
     "data": {
      "text/plain": [
       "2"
      ]
     },
     "execution_count": 20,
     "metadata": {},
     "output_type": "execute_result"
    }
   ],
   "source": [
    "int(2.9)"
   ]
  },
  {
   "cell_type": "markdown",
   "id": "dddf227e",
   "metadata": {},
   "source": [
    "Burada olan işlem sayıyı yuvarlama işlemi değil, sadece tam kısmını alıyoruz"
   ]
  },
  {
   "cell_type": "code",
   "execution_count": null,
   "id": "9df2db12",
   "metadata": {},
   "outputs": [],
   "source": []
  }
 ],
 "metadata": {
  "kernelspec": {
   "display_name": "Python 3 (ipykernel)",
   "language": "python",
   "name": "python3"
  },
  "language_info": {
   "codemirror_mode": {
    "name": "ipython",
    "version": 3
   },
   "file_extension": ".py",
   "mimetype": "text/x-python",
   "name": "python",
   "nbconvert_exporter": "python",
   "pygments_lexer": "ipython3",
   "version": "3.9.6"
  }
 },
 "nbformat": 4,
 "nbformat_minor": 5
}
