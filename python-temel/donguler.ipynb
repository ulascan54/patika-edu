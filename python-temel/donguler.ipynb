{
 "cells": [
  {
   "cell_type": "markdown",
   "id": "fd0296f6",
   "metadata": {},
   "source": [
    "# Python Döngüleri\n",
    "### Python'un iki ilkel döngü komutu vardır:\n",
    "\n",
    "- while döngüleri\n",
    "- for döngüsü\n",
    "\n",
    "---\n",
    "\n",
    "## while Döngüsü\n",
    "- while döngüsü ile bir koşul doğru olduğu sürece bir dizi deyimi çalıştırabiliriz.\n",
    "\n"
   ]
  },
  {
   "cell_type": "code",
   "execution_count": 1,
   "id": "acab7c1e",
   "metadata": {},
   "outputs": [
    {
     "name": "stdout",
     "output_type": "stream",
     "text": [
      "1\n",
      "2\n",
      "3\n",
      "4\n",
      "5\n"
     ]
    }
   ],
   "source": [
    "i = 1\n",
    "while i < 6:\n",
    "  print(i)\n",
    "  i += 1"
   ]
  },
  {
   "cell_type": "markdown",
   "id": "1ff85c83",
   "metadata": {},
   "source": [
    "Not: i değerini artırmayı unutmayın, aksi takdirde döngü sonsuza kadar devam eder.\n",
    "\n"
   ]
  },
  {
   "cell_type": "markdown",
   "id": "52a423bd",
   "metadata": {},
   "source": [
    "- while döngüsü ilgili değişkenlerin hazır olmasını gerektirir, bu örnekte 1 olarak ayarladığımız bir indeksleme değişkeni olan i'yi tanımlamamız gerekir.\n",
    "\n",
    "---\n",
    "\n",
    "## The break Statement\n",
    "break komutu ile while koşulu doğru olsa bile döngüyü durdurabiliriz:"
   ]
  },
  {
   "cell_type": "code",
   "execution_count": 3,
   "id": "a168283d",
   "metadata": {},
   "outputs": [
    {
     "name": "stdout",
     "output_type": "stream",
     "text": [
      "1\n",
      "2\n",
      "3\n"
     ]
    }
   ],
   "source": [
    "i = 1\n",
    "while i < 6:\n",
    "  print(i)\n",
    "  if i == 3:\n",
    "    break\n",
    "  i += 1"
   ]
  },
  {
   "cell_type": "markdown",
   "id": "5670edf4",
   "metadata": {},
   "source": [
    "## The continue Statement\n",
    "continue komutu ile mevcut yinelemeyi durdurabilir ve bir sonraki ile devam edebiliriz:\n"
   ]
  },
  {
   "cell_type": "code",
   "execution_count": 4,
   "id": "ce4e64cb",
   "metadata": {},
   "outputs": [
    {
     "name": "stdout",
     "output_type": "stream",
     "text": [
      "1\n",
      "2\n",
      "4\n",
      "5\n",
      "6\n"
     ]
    }
   ],
   "source": [
    "i = 0\n",
    "while i < 6:\n",
    "  i += 1\n",
    "  if i == 3:\n",
    "    continue\n",
    "  print(i)"
   ]
  },
  {
   "cell_type": "markdown",
   "id": "06e02cff",
   "metadata": {},
   "source": [
    "## The else Statement\n",
    "else komutu, koşul artık doğru olmadığında bir kod bloğunu bir kez çalıştırabiliriz:"
   ]
  },
  {
   "cell_type": "code",
   "execution_count": 5,
   "id": "f60540c1",
   "metadata": {},
   "outputs": [
    {
     "name": "stdout",
     "output_type": "stream",
     "text": [
      "1\n",
      "2\n",
      "3\n",
      "4\n",
      "5\n",
      "i is no longer less than 6\n"
     ]
    }
   ],
   "source": [
    "i = 1\n",
    "while i < 6:\n",
    "  print(i)\n",
    "  i += 1\n",
    "else:\n",
    "  print(\"i is no longer less than 6\")"
   ]
  },
  {
   "cell_type": "markdown",
   "id": "56f24b97",
   "metadata": {},
   "source": [
    "## for döngüsü\n",
    "\n",
    "\n",
    "- for döngüsü in'den sonra yazdığımız yapının bütün değerleri üzerinde dolanıp, eleman sayısı kadar içindeki kodu çalıştıracak. x in < obje > yapısı ile tanımlandığında, x döngünün her adımında in den sonra tanımlanan yapının elemanlarının değerlerini alacak.\n",
    "\n",
    "\n",
    "- for <değişken> in < obje >\n",
    "\n",
    "\n",
    "\n",
    "- for döngüsünün en başında <değişken>, <obje>'nin ilk elemanının değerini alıyor. İçindeki kod 1 kere çalışıp bittikten sonra ikinci kere çalıştırıyor ve <değişken>, <obje>'nin ikinci elemanının değerini alıyor. Bu <obje>'nin tüm elemanları bitene kadar devam ediyor."
   ]
  },
  {
   "cell_type": "code",
   "execution_count": 6,
   "id": "ff481cbf",
   "metadata": {},
   "outputs": [
    {
     "name": "stdout",
     "output_type": "stream",
     "text": [
      "h\n",
      "e\n",
      "y\n"
     ]
    }
   ],
   "source": [
    "for c in \"hey\":\n",
    "    print(c)"
   ]
  },
  {
   "cell_type": "code",
   "execution_count": 7,
   "id": "f1b1564f",
   "metadata": {},
   "outputs": [
    {
     "name": "stdout",
     "output_type": "stream",
     "text": [
      "5050\n",
      "0\n",
      "1\n",
      "2\n",
      "3\n",
      "4\n"
     ]
    }
   ],
   "source": [
    "toplam = 0\n",
    "\n",
    "for x in range(101):\n",
    "    toplam += x\n",
    "print(toplam)\n",
    "5050\n",
    "for x in range(5):\n",
    "    print(x)"
   ]
  },
  {
   "cell_type": "code",
   "execution_count": 8,
   "id": "1342feae",
   "metadata": {},
   "outputs": [
    {
     "name": "stdout",
     "output_type": "stream",
     "text": [
      "3125\n"
     ]
    }
   ],
   "source": [
    "toplam = 1\n",
    "for i in range(5):\n",
    "    toplam *=5\n",
    "    \n",
    "print(toplam)"
   ]
  },
  {
   "cell_type": "code",
   "execution_count": 9,
   "id": "c1300f21",
   "metadata": {},
   "outputs": [
    {
     "name": "stdout",
     "output_type": "stream",
     "text": [
      "3125\n"
     ]
    }
   ],
   "source": [
    "toplam = 1\n",
    "for _ in range(5):\n",
    "    toplam *=5\n",
    "    \n",
    "print(toplam)"
   ]
  },
  {
   "cell_type": "markdown",
   "id": "c0c4aeb5",
   "metadata": {},
   "source": [
    "## for vs while\n",
    "- while yapısında kaç kere iterasyon yapacağımızı bilmiyoruz, for'da eleman sayısı kadar iterasyon var. (break veya continue ile bölünmezse)\n",
    "\n",
    "\n",
    "- Aslında for döngüsünü while döngüsünü kullanarak yazabiliriz, ama while döngüsünü for kullanarak yazamayız, çünkü for'da test mekanizması yok.\n"
   ]
  },
  {
   "cell_type": "code",
   "execution_count": 10,
   "id": "e5279bfc",
   "metadata": {},
   "outputs": [
    {
     "name": "stdout",
     "output_type": "stream",
     "text": [
      "h\n",
      "e\n",
      "y\n"
     ]
    }
   ],
   "source": [
    "s = \"hey\"\n",
    "for c in s:\n",
    "    print(c)"
   ]
  },
  {
   "cell_type": "code",
   "execution_count": 12,
   "id": "d714f013",
   "metadata": {},
   "outputs": [
    {
     "name": "stdout",
     "output_type": "stream",
     "text": [
      "h\n",
      "e\n",
      "y\n"
     ]
    }
   ],
   "source": [
    "n = len(s)\n",
    "index = 0\n",
    "\n",
    "while index < n:\n",
    "        print(s[index])\n",
    "        index += 1"
   ]
  },
  {
   "cell_type": "code",
   "execution_count": null,
   "id": "44a69b2a",
   "metadata": {},
   "outputs": [],
   "source": []
  }
 ],
 "metadata": {
  "kernelspec": {
   "display_name": "Python 3 (ipykernel)",
   "language": "python",
   "name": "python3"
  },
  "language_info": {
   "codemirror_mode": {
    "name": "ipython",
    "version": 3
   },
   "file_extension": ".py",
   "mimetype": "text/x-python",
   "name": "python",
   "nbconvert_exporter": "python",
   "pygments_lexer": "ipython3",
   "version": "3.9.6"
  }
 },
 "nbformat": 4,
 "nbformat_minor": 5
}
