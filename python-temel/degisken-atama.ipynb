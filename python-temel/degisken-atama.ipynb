{
 "cells": [
  {
   "cell_type": "markdown",
   "id": "828819fb",
   "metadata": {},
   "source": [
    "# Değişken Atama (Variable Assignment)\n",
    "\n",
    "\n",
    "- Bazı değerleri bilgisayarın hafızasında tutmak ve daha sonra bunlara verdiğimiz adlarla erişmek isteyebiliriz. Bunu variable'ler ile gerçekleştireceğiz.\n",
    "\n",
    "\n",
    "- İlk olarak yapacağımız şey variable'ye vereceğimiz ismi yazmak. Bu isim penguen, uzunluk, maaş gibi istediğiniz bir isim olabilir (burada dikkat edilmesi gereken yer, verilecek ismin daha önceden Python'un default olarak kullanmadığı isimler olması. Mesela if, continue, for gibi keyword'ler daha önceden ayrıldığı için bunları variable ismi olarak kullanamayız)\n",
    "\n",
    "\n",
    "- Python'un daha önceden kendisine ayırdığı isimler (reserved words):"
   ]
  },
  {
   "cell_type": "markdown",
   "id": "d47d2bc2",
   "metadata": {},
   "source": [
    "````\n",
    "  and       del       from      not       while    \n",
    "  as        elif      global    or        with     \n",
    "  assert    else      if        pass      yield    \n",
    "  break     except    import    print     True         \n",
    "  class     exec      in        raise     False         \n",
    "  continue  finally   is        return             \n",
    "  def       for       lambda    try\n",
    "\n",
    "`````\n",
    "\n",
    "- Variable ismini seçtikten sonra bu ismin değerinin ne olacağını söylemeliyiz. Bu aşamadan sonra Python verdiğimiz ismi gördüğünde aslında verdiğimiz değeri çağırıyor olacak.\n",
    "\n",
    "\n",
    "- Bu değer atama işlemini = sembolü ile yapacağız. Normalde bildiğimiz anlamından farklı bu = işareti. Eşitliğin sağındaki değeri solda yazdığımızın değeri olarak ata demiş oluyoruz bununla. Bu işleme variable assignment deniyor."
   ]
  },
  {
   "cell_type": "code",
   "execution_count": 1,
   "id": "0968e1b0",
   "metadata": {},
   "outputs": [
    {
     "name": "stdout",
     "output_type": "stream",
     "text": [
      "2\n"
     ]
    }
   ],
   "source": [
    "a = 2\n",
    "print(a)"
   ]
  },
  {
   "cell_type": "code",
   "execution_count": 2,
   "id": "3ab5e642",
   "metadata": {},
   "outputs": [
    {
     "data": {
      "text/plain": [
       "7"
      ]
     },
     "execution_count": 2,
     "metadata": {},
     "output_type": "execute_result"
    }
   ],
   "source": [
    "a=2\n",
    "a+5"
   ]
  },
  {
   "cell_type": "code",
   "execution_count": 5,
   "id": "3cf5f715",
   "metadata": {},
   "outputs": [
    {
     "data": {
      "text/plain": [
       "6"
      ]
     },
     "execution_count": 5,
     "metadata": {},
     "output_type": "execute_result"
    }
   ],
   "source": [
    "b=2+4\n",
    "b"
   ]
  },
  {
   "cell_type": "code",
   "execution_count": 6,
   "id": "6bb01686",
   "metadata": {},
   "outputs": [
    {
     "data": {
      "text/plain": [
       "12"
      ]
     },
     "execution_count": 6,
     "metadata": {},
     "output_type": "execute_result"
    }
   ],
   "source": [
    "b+4+a"
   ]
  },
  {
   "cell_type": "markdown",
   "id": "02537176",
   "metadata": {},
   "source": [
    "- Artık kodun başka bir yerinde a ile işlem yapmaya çalışsam python a'ya 2 olarak davranacak.\n",
    "\n",
    "\n",
    "- Variable Assingment'i kafamızda canlandırmak için şöyle düşünebiliriz:\n",
    "- Variable'a bir isim verip bir atama yaptığımızda Python bilgisayarın hafızasında o isimli bir konteyner oluşturuyor ve ismini verdiğimiz isim yapıyor. Daha sonra bu isim çağrıldığında o konteynera gidiyor ve o değeri alıyor\n"
   ]
  },
  {
   "cell_type": "code",
   "execution_count": null,
   "id": "afa379a5",
   "metadata": {},
   "outputs": [],
   "source": []
  }
 ],
 "metadata": {
  "kernelspec": {
   "display_name": "Python 3 (ipykernel)",
   "language": "python",
   "name": "python3"
  },
  "language_info": {
   "codemirror_mode": {
    "name": "ipython",
    "version": 3
   },
   "file_extension": ".py",
   "mimetype": "text/x-python",
   "name": "python",
   "nbconvert_exporter": "python",
   "pygments_lexer": "ipython3",
   "version": "3.9.6"
  }
 },
 "nbformat": 4,
 "nbformat_minor": 5
}
